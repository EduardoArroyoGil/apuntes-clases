{
 "cells": [
  {
   "cell_type": "markdown",
   "id": "6028a3c1",
   "metadata": {
    "toc": true
   },
   "source": [
    "<h1>Table of Contents<span class=\"tocSkip\"></span></h1>\n",
    "<div class=\"toc\"><ul class=\"toc-item\"><li><span><a href=\"#¿Qué-distribución-tienen--nuestros-datos?\" data-toc-modified-id=\"¿Qué-distribución-tienen--nuestros-datos?-1\"><span class=\"toc-item-num\">1&nbsp;&nbsp;</span>¿Qué distribución tienen  nuestros datos?</a></span></li><li><span><a href=\"#Normalización\" data-toc-modified-id=\"Normalización-2\"><span class=\"toc-item-num\">2&nbsp;&nbsp;</span>Normalización</a></span><ul class=\"toc-item\"><li><span><a href=\"#Qué-es-la-normalización-y-cuando-usarla\" data-toc-modified-id=\"Qué-es-la-normalización-y-cuando-usarla-2.1\"><span class=\"toc-item-num\">2.1&nbsp;&nbsp;</span>Qué es la normalización y cuando usarla</a></span></li><li><span><a href=\"#Tipos-de-normalización\" data-toc-modified-id=\"Tipos-de-normalización-2.2\"><span class=\"toc-item-num\">2.2&nbsp;&nbsp;</span>Tipos de normalización</a></span><ul class=\"toc-item\"><li><span><a href=\"#Manualmente-(explicar-la-fórmula)\" data-toc-modified-id=\"Manualmente-(explicar-la-fórmula)-2.2.1\"><span class=\"toc-item-num\">2.2.1&nbsp;&nbsp;</span>Manualmente (explicar la fórmula)</a></span></li><li><span><a href=\"#Transformaciones-logarítmicas-o-raices-cuadradas.\" data-toc-modified-id=\"Transformaciones-logarítmicas-o-raices-cuadradas.-2.2.2\"><span class=\"toc-item-num\">2.2.2&nbsp;&nbsp;</span>Transformaciones logarítmicas o raices cuadradas.</a></span></li><li><span><a href=\"#stats.boxcox()\" data-toc-modified-id=\"stats.boxcox()-2.2.3\"><span class=\"toc-item-num\">2.2.3&nbsp;&nbsp;</span>stats.boxcox()</a></span></li><li><span><a href=\"#Sklearn-MinMaxScaller\" data-toc-modified-id=\"Sklearn-MinMaxScaller-2.2.4\"><span class=\"toc-item-num\">2.2.4&nbsp;&nbsp;</span>Sklearn MinMaxScaller</a></span></li></ul></li></ul></li><li><span><a href=\"#Estandarización\" data-toc-modified-id=\"Estandarización-3\"><span class=\"toc-item-num\">3&nbsp;&nbsp;</span>Estandarización</a></span><ul class=\"toc-item\"><li><span><a href=\"#Qué-es-la-estandarización-y-cuando-usarla\" data-toc-modified-id=\"Qué-es-la-estandarización-y-cuando-usarla-3.1\"><span class=\"toc-item-num\">3.1&nbsp;&nbsp;</span>Qué es la estandarización y cuando usarla</a></span></li><li><span><a href=\"#Tipos-de-estandarización\" data-toc-modified-id=\"Tipos-de-estandarización-3.2\"><span class=\"toc-item-num\">3.2&nbsp;&nbsp;</span>Tipos de estandarización</a></span><ul class=\"toc-item\"><li><span><a href=\"#Manualmente\" data-toc-modified-id=\"Manualmente-3.2.1\"><span class=\"toc-item-num\">3.2.1&nbsp;&nbsp;</span>Manualmente</a></span></li><li><span><a href=\"#Sklearn-StandardScaler\" data-toc-modified-id=\"Sklearn-StandardScaler-3.2.2\"><span class=\"toc-item-num\">3.2.2&nbsp;&nbsp;</span>Sklearn StandardScaler</a></span></li><li><span><a href=\"#Sklearn-RobustScaler\" data-toc-modified-id=\"Sklearn-RobustScaler-3.2.3\"><span class=\"toc-item-num\">3.2.3&nbsp;&nbsp;</span>Sklearn RobustScaler</a></span></li></ul></li></ul></li><li><span><a href=\"#Diferencias-entre-normalización-y-estandarización\" data-toc-modified-id=\"Diferencias-entre-normalización-y-estandarización-4\"><span class=\"toc-item-num\">4&nbsp;&nbsp;</span>Diferencias entre normalización y estandarización</a></span></li></ul></div>"
   ]
  },
  {
   "cell_type": "markdown",
   "id": "5a1b809b",
   "metadata": {},
   "source": [
    "El éxito de un buen análisis de datos depende en gran medida de la calidad de los datos introducidos en el modelo. Como ya hemos visto, los datos del mundo real suelen estar sucios y contienen outliers* , tipos de datos erróneos, variables irrelevantes o datos no estandarizados. \n",
    "\n",
    "La presencia de cualquiera de ellos impedirá que hacer una  buena interpretación de nuestros datos. Por esta razón, la transformación de los datos brutos en un formato útil es esencial. Unas técnica con la que nos encontraremos muchas veces al preprocesar los datos es la normalización y estandarización. \n",
    "\n",
    "\n",
    "Estos procesos es una práctica común que consiste en transformar las columnas numéricas a una escala común. Podemos encontrarnos que algunas de nuestras variables tienen valores que difieren de otros varias veces. Las variables con valores más altos dominarán. Sin embargo, esto no significa que esas variables sean más importantes.\n",
    "\n",
    "Tras la normalización y la estandarización, todas las variables tendrán un peso similar. \n",
    "Existen múltiples técnicas de normalización y estandarización en estadística. En este jupyter, cubriremos las más importantes. \n",
    "\n",
    "📌 Tenemos que tener en cuenta que hay variables que no tiene \"sentido\" normalizar, como por ejemplo variables de tipo fecha, años, latitud y longitud, los índices..."
   ]
  },
  {
   "cell_type": "code",
   "execution_count": 2,
   "id": "591e1002",
   "metadata": {},
   "outputs": [],
   "source": [
    "# cargamos las librerías que nos hacen falta para trabajar. \n",
    "\n",
    "import pandas as pd\n",
    "import numpy as np\n",
    "import seaborn as sns\n",
    "import matplotlib.pyplot as plt\n",
    "\n",
    "import warnings\n",
    "warnings.filterwarnings('ignore')\n",
    "\n",
    "from scipy import stats # para hacer la transformación box-cox\n",
    "\n",
    "pd.options.display.max_columns = None # recordamos que este comando nos permitía ver todas las columnas de dataframe"
   ]
  },
  {
   "cell_type": "code",
   "execution_count": 3,
   "id": "fbccb056",
   "metadata": {},
   "outputs": [],
   "source": [
    "df = pd.read_csv(\"data/insurance_sin_outliers.csv\", index_col = 0)"
   ]
  },
  {
   "cell_type": "code",
   "execution_count": 4,
   "id": "422e536d",
   "metadata": {},
   "outputs": [
    {
     "data": {
      "text/html": [
       "<div>\n",
       "<style scoped>\n",
       "    .dataframe tbody tr th:only-of-type {\n",
       "        vertical-align: middle;\n",
       "    }\n",
       "\n",
       "    .dataframe tbody tr th {\n",
       "        vertical-align: top;\n",
       "    }\n",
       "\n",
       "    .dataframe thead th {\n",
       "        text-align: right;\n",
       "    }\n",
       "</style>\n",
       "<table border=\"1\" class=\"dataframe\">\n",
       "  <thead>\n",
       "    <tr style=\"text-align: right;\">\n",
       "      <th></th>\n",
       "      <th>age</th>\n",
       "      <th>sex</th>\n",
       "      <th>bmi</th>\n",
       "      <th>children</th>\n",
       "      <th>smoker</th>\n",
       "      <th>region</th>\n",
       "      <th>charges</th>\n",
       "    </tr>\n",
       "  </thead>\n",
       "  <tbody>\n",
       "    <tr>\n",
       "      <th>0</th>\n",
       "      <td>19.0</td>\n",
       "      <td>female</td>\n",
       "      <td>27.90</td>\n",
       "      <td>0</td>\n",
       "      <td>yes</td>\n",
       "      <td>southwest</td>\n",
       "      <td>16884.9240</td>\n",
       "    </tr>\n",
       "    <tr>\n",
       "      <th>1</th>\n",
       "      <td>18.0</td>\n",
       "      <td>male</td>\n",
       "      <td>33.77</td>\n",
       "      <td>1</td>\n",
       "      <td>no</td>\n",
       "      <td>southeast</td>\n",
       "      <td>1725.5523</td>\n",
       "    </tr>\n",
       "  </tbody>\n",
       "</table>\n",
       "</div>"
      ],
      "text/plain": [
       "    age     sex    bmi  children smoker     region     charges\n",
       "0  19.0  female  27.90         0    yes  southwest  16884.9240\n",
       "1  18.0    male  33.77         1     no  southeast   1725.5523"
      ]
     },
     "execution_count": 4,
     "metadata": {},
     "output_type": "execute_result"
    }
   ],
   "source": [
    "df.head(2)"
   ]
  },
  {
   "cell_type": "markdown",
   "id": "bcdad61e",
   "metadata": {},
   "source": [
    "Como los conceptos que aprenderemos hoy se aplicarán unicamente sobre las variables numéricas, lo primero que haremos será seleccionar solo las variables numéricas. "
   ]
  },
  {
   "cell_type": "code",
   "execution_count": 5,
   "id": "276ffa98",
   "metadata": {},
   "outputs": [
    {
     "data": {
      "text/html": [
       "<div>\n",
       "<style scoped>\n",
       "    .dataframe tbody tr th:only-of-type {\n",
       "        vertical-align: middle;\n",
       "    }\n",
       "\n",
       "    .dataframe tbody tr th {\n",
       "        vertical-align: top;\n",
       "    }\n",
       "\n",
       "    .dataframe thead th {\n",
       "        text-align: right;\n",
       "    }\n",
       "</style>\n",
       "<table border=\"1\" class=\"dataframe\">\n",
       "  <thead>\n",
       "    <tr style=\"text-align: right;\">\n",
       "      <th></th>\n",
       "      <th>age</th>\n",
       "      <th>bmi</th>\n",
       "      <th>children</th>\n",
       "      <th>charges</th>\n",
       "    </tr>\n",
       "  </thead>\n",
       "  <tbody>\n",
       "    <tr>\n",
       "      <th>0</th>\n",
       "      <td>19.0</td>\n",
       "      <td>27.90</td>\n",
       "      <td>0</td>\n",
       "      <td>16884.9240</td>\n",
       "    </tr>\n",
       "    <tr>\n",
       "      <th>1</th>\n",
       "      <td>18.0</td>\n",
       "      <td>33.77</td>\n",
       "      <td>1</td>\n",
       "      <td>1725.5523</td>\n",
       "    </tr>\n",
       "  </tbody>\n",
       "</table>\n",
       "</div>"
      ],
      "text/plain": [
       "    age    bmi  children     charges\n",
       "0  19.0  27.90         0  16884.9240\n",
       "1  18.0  33.77         1   1725.5523"
      ]
     },
     "execution_count": 5,
     "metadata": {},
     "output_type": "execute_result"
    }
   ],
   "source": [
    "numericas = df.select_dtypes(include = np.number)\n",
    "numericas.head(2)"
   ]
  },
  {
   "cell_type": "code",
   "execution_count": 7,
   "id": "69564317",
   "metadata": {},
   "outputs": [
    {
     "data": {
      "text/plain": [
       "(1338, 4)"
      ]
     },
     "execution_count": 7,
     "metadata": {},
     "output_type": "execute_result"
    }
   ],
   "source": [
    "numericas.shape"
   ]
  },
  {
   "cell_type": "markdown",
   "id": "aa0b4607",
   "metadata": {},
   "source": [
    "# ¿Qué distribución tienen  nuestros datos? "
   ]
  },
  {
   "cell_type": "markdown",
   "id": "e7c86078",
   "metadata": {},
   "source": [
    "Antes de ponernos manos a la obra, tenemos que saber como están distribuidos nuestros datos. Este punto es esencial ya que aquellas variables que no tengan una distribución normal. Esta es la distribución más frecuente. Consiste en una gráfica de la función de densidad que tiene una forma acampanada y simétrica. Es la conocemos como **campana de Gauss**. "
   ]
  },
  {
   "cell_type": "code",
   "execution_count": 26,
   "id": "3218c54c",
   "metadata": {
    "scrolled": false
   },
   "outputs": [
    {
     "data": {
      "image/png": "[encoded data removed]",
      "text/plain": [
       "<Figure size 1440x504 with 4 Axes>"
      ]
     },
     "metadata": {
      "needs_background": "light"
     },
     "output_type": "display_data"
    }
   ],
   "source": [
    "fig, ax = plt.subplots(1,4, figsize = (20,7))\n",
    "\n",
    "for i in range(len(numericas.columns)):\n",
    "    sns.histplot(numericas[numericas.columns[i]], kde = True, ax = ax[i])\n",
    "plt.show()"
   ]
  },
  {
   "cell_type": "markdown",
   "id": "c6579d5f",
   "metadata": {},
   "source": [
    "# Normalización "
   ]
  },
  {
   "cell_type": "markdown",
   "id": "300cab62",
   "metadata": {},
   "source": [
    "## Qué es la normalización y cuando usarla"
   ]
  },
  {
   "cell_type": "markdown",
   "id": "9982e389",
   "metadata": {},
   "source": [
    "A veces nos podemos encontrar que nuestras variables estan medidas en diferentes escalas, lo que hace que la comparación entre ellas sea complicada o que incluso no tengan una distribución normal, es decir, la campana de gaus que estamos más acostumbradas a ver. \n",
    "\n",
    "Basicamente, la normalización lo que va a hacer es poner todas estas variables que están en escalas diferentes en un una escala común. Es decir: \n",
    "\n",
    "> Es el proceso de reescalar los valores entre [0-1]\n",
    ">\n",
    "> Usaremos este tipo de aproximación cuando no sepamos como es la distribución de nuestros datos o NO sea gaussiana. \n",
    "\n",
    "La `normalización` es la transformación de escala de la distribución de una variable con el objetivo de poder hacer comparaciones respecto a conjuntos de elementos y a la media.\n",
    "\n",
    "Entendámoslo mejor con un ejemplo: \n",
    "\n",
    "Supongamos que tenemos un dataframe que contiene dos variables: \n",
    "\n",
    "- El tiempo de viaje y \n",
    "\n",
    "- La distancia recorrida. \n",
    "\n",
    "El tiempo se mide en horas (por ejemplo, 5, 10, 25 horas) y la distancia en millas (por ejemplo, 500, 800, 1200 kilometros). \n",
    "\n",
    "Problemas que nos encontramos: \n",
    "\n",
    "- Un problema es que estas dos variables se miden en dos unidades diferentes: una en horas y otra en kilometros. \n",
    "\n",
    "\n",
    "-  La distribución de los datos, es bastante diferente en estas dos variables (tanto dentro de las variables como entre ellas). Una va de 5 -25 y la otra de 500-1200. \n",
    "\n",
    "\n",
    "> El objetivo de la normalización es transformar los datos de manera que no tengan dimensiones y/o tengan distribuciones similares. La normalización es un paso esencial en el preprocesamiento de datos en cualquier aplicación de *machine learning* y ajuste de modelos.\n",
    "\n"
   ]
  },
  {
   "cell_type": "markdown",
   "id": "8e0de7e6",
   "metadata": {},
   "source": [
    "## Tipos de normalización "
   ]
  },
  {
   "cell_type": "markdown",
   "id": "859765ff",
   "metadata": {},
   "source": [
    "### Manualmente\n",
    "\n",
    "\n",
    "\n",
    "$$ x´ =  \\frac{x -  µ}{max(x) - min(x)}$$\n",
    "\n",
    "Donde: \n",
    "\n",
    "- `X`: es el valor que queremos normalizar.\n",
    "\n",
    "\n",
    "- `µ`: es la media de todos los valores que queremos normalizar.\n",
    "\n",
    " \n",
    "- `max(x)`: el valor máximo de nuestra variable.\n",
    "\n",
    "\n",
    "- `min(x)`: el valor mínimo de nuestra variable.\n"
   ]
  },
  {
   "cell_type": "code",
   "execution_count": 27,
   "id": "b101984c",
   "metadata": {},
   "outputs": [
    {
     "data": {
      "text/plain": [
       "Index(['age', 'bmi', 'children', 'charges'], dtype='object')"
      ]
     },
     "execution_count": 27,
     "metadata": {},
     "output_type": "execute_result"
    }
   ],
   "source": [
    "numericas.columns"
   ]
  },
  {
   "cell_type": "code",
   "execution_count": 36,
   "id": "3bcac918",
   "metadata": {},
   "outputs": [],
   "source": [
    "# vamos a crear distintas variables con los estadísticos que necesitamos\n",
    "\n",
    "media = numericas[\"charges\"].mean()\n",
    "maximo = numericas[\"charges\"].max() \n",
    "minimo = numericas[\"charges\"].min()"
   ]
  },
  {
   "cell_type": "code",
   "execution_count": 37,
   "id": "e9ad730b",
   "metadata": {},
   "outputs": [],
   "source": [
    "numericas[\"age_NORM\"] = (numericas[\"charges\"] - media) / (maximo - minimo )"
   ]
  },
  {
   "cell_type": "code",
   "execution_count": 38,
   "id": "05a7c1a8",
   "metadata": {},
   "outputs": [
    {
     "data": {
      "text/html": [
       "<div>\n",
       "<style scoped>\n",
       "    .dataframe tbody tr th:only-of-type {\n",
       "        vertical-align: middle;\n",
       "    }\n",
       "\n",
       "    .dataframe tbody tr th {\n",
       "        vertical-align: top;\n",
       "    }\n",
       "\n",
       "    .dataframe thead th {\n",
       "        text-align: right;\n",
       "    }\n",
       "</style>\n",
       "<table border=\"1\" class=\"dataframe\">\n",
       "  <thead>\n",
       "    <tr style=\"text-align: right;\">\n",
       "      <th></th>\n",
       "      <th>age</th>\n",
       "      <th>bmi</th>\n",
       "      <th>children</th>\n",
       "      <th>charges</th>\n",
       "      <th>age_NORM</th>\n",
       "    </tr>\n",
       "  </thead>\n",
       "  <tbody>\n",
       "    <tr>\n",
       "      <th>0</th>\n",
       "      <td>19.0</td>\n",
       "      <td>27.90</td>\n",
       "      <td>0</td>\n",
       "      <td>16884.9240</td>\n",
       "      <td>0.207720</td>\n",
       "    </tr>\n",
       "    <tr>\n",
       "      <th>1</th>\n",
       "      <td>18.0</td>\n",
       "      <td>33.77</td>\n",
       "      <td>1</td>\n",
       "      <td>1725.5523</td>\n",
       "      <td>-0.244121</td>\n",
       "    </tr>\n",
       "  </tbody>\n",
       "</table>\n",
       "</div>"
      ],
      "text/plain": [
       "    age    bmi  children     charges  age_NORM\n",
       "0  19.0  27.90         0  16884.9240  0.207720\n",
       "1  18.0  33.77         1   1725.5523 -0.244121"
      ]
     },
     "execution_count": 38,
     "metadata": {},
     "output_type": "execute_result"
    }
   ],
   "source": [
    "numericas.head(2)"
   ]
  },
  {
   "cell_type": "code",
   "execution_count": 39,
   "id": "efe88521",
   "metadata": {},
   "outputs": [
    {
     "data": {
      "image/png": "[encoded data removed]",
      "text/plain": [
       "<Figure size 1080x360 with 2 Axes>"
      ]
     },
     "metadata": {
      "needs_background": "light"
     },
     "output_type": "display_data"
    }
   ],
   "source": [
    "fig, axes = plt.subplots(1, 2, figsize = (15,5))\n",
    "\n",
    "axes[0].set_title('age original')\n",
    "axes[1].set_title('age normalizada')\n",
    "\n",
    "sns.distplot(numericas['age'] ,ax = axes[0])\n",
    "sns.distplot(numericas['age_NORM'], ax = axes[1]);"
   ]
  },
  {
   "cell_type": "markdown",
   "id": "9900dde9",
   "metadata": {},
   "source": [
    "### Transformaciones logarítmicas o raices cuadradas. "
   ]
  },
  {
   "cell_type": "markdown",
   "id": "63f84606",
   "metadata": {},
   "source": [
    "`LOGARÍTMICA`\n",
    "\n",
    "La escala logarítmica implica la conversión de una columna a la escala lograrítimica. \n",
    "\n",
    "📌 Es importante tener en cuenta que esta transformación no la podremos hacer si tenemos algun valor en nuestra variable que sea 0."
   ]
  },
  {
   "cell_type": "markdown",
   "id": "8cae5af4",
   "metadata": {},
   "source": [
    "En este caso aplicaremos este caso aplicaremos una*list comprehension* para evitar tener errores con los posibles valores 0 que tengamos en nuestra columna. "
   ]
  },
  {
   "cell_type": "code",
   "execution_count": 40,
   "id": "de523d68",
   "metadata": {},
   "outputs": [],
   "source": [
    "numericas['charges_NORM'] = numericas['charges'].apply(lambda x: np.log(x) if x != 0 else 0)"
   ]
  },
  {
   "cell_type": "code",
   "execution_count": 41,
   "id": "b1d8fdbb",
   "metadata": {
    "scrolled": true
   },
   "outputs": [
    {
     "data": {
      "text/html": [
       "<div>\n",
       "<style scoped>\n",
       "    .dataframe tbody tr th:only-of-type {\n",
       "        vertical-align: middle;\n",
       "    }\n",
       "\n",
       "    .dataframe tbody tr th {\n",
       "        vertical-align: top;\n",
       "    }\n",
       "\n",
       "    .dataframe thead th {\n",
       "        text-align: right;\n",
       "    }\n",
       "</style>\n",
       "<table border=\"1\" class=\"dataframe\">\n",
       "  <thead>\n",
       "    <tr style=\"text-align: right;\">\n",
       "      <th></th>\n",
       "      <th>age</th>\n",
       "      <th>bmi</th>\n",
       "      <th>children</th>\n",
       "      <th>charges</th>\n",
       "      <th>age_NORM</th>\n",
       "      <th>charges_NORM</th>\n",
       "    </tr>\n",
       "  </thead>\n",
       "  <tbody>\n",
       "    <tr>\n",
       "      <th>0</th>\n",
       "      <td>19.0</td>\n",
       "      <td>27.90</td>\n",
       "      <td>0</td>\n",
       "      <td>16884.9240</td>\n",
       "      <td>0.207720</td>\n",
       "      <td>9.734176</td>\n",
       "    </tr>\n",
       "    <tr>\n",
       "      <th>1</th>\n",
       "      <td>18.0</td>\n",
       "      <td>33.77</td>\n",
       "      <td>1</td>\n",
       "      <td>1725.5523</td>\n",
       "      <td>-0.244121</td>\n",
       "      <td>7.453302</td>\n",
       "    </tr>\n",
       "  </tbody>\n",
       "</table>\n",
       "</div>"
      ],
      "text/plain": [
       "    age    bmi  children     charges  age_NORM  charges_NORM\n",
       "0  19.0  27.90         0  16884.9240  0.207720      9.734176\n",
       "1  18.0  33.77         1   1725.5523 -0.244121      7.453302"
      ]
     },
     "execution_count": 41,
     "metadata": {},
     "output_type": "execute_result"
    }
   ],
   "source": [
    "numericas.head(2)"
   ]
  },
  {
   "cell_type": "code",
   "execution_count": 42,
   "id": "b2e8e1c4",
   "metadata": {},
   "outputs": [
    {
     "data": {
      "image/png": "[encoded data removed]",
      "text/plain": [
       "<Figure size 1080x360 with 2 Axes>"
      ]
     },
     "metadata": {
      "needs_background": "light"
     },
     "output_type": "display_data"
    }
   ],
   "source": [
    "fig, axes = plt.subplots(1, 2, figsize = (15,5))\n",
    "\n",
    "axes[0].set_title('GarageArea original')\n",
    "axes[1].set_title('GarageArea normalizado')\n",
    "\n",
    "sns.distplot(numericas['charges'] ,ax = axes[0])\n",
    "sns.distplot(numericas['charges_NORM'], ax = axes[1]);"
   ]
  },
  {
   "cell_type": "markdown",
   "id": "48bd9397",
   "metadata": {},
   "source": [
    "`RAIZ CUADRADA`\n",
    "\n",
    "La escala logarítmica implica la conversión de una columna a la escala lograrítimica. \n",
    "\n",
    "📌 Es importante tener en cuenta que esta transformación no la podremos hacer si tenemos algun valor en nuestra variable que sea 0."
   ]
  },
  {
   "cell_type": "code",
   "execution_count": 43,
   "id": "bb6e12fa",
   "metadata": {},
   "outputs": [],
   "source": [
    "import math \n",
    "numericas['charges_NORM'] = numericas['charges'].apply(lambda x: math.sqrt(x))"
   ]
  },
  {
   "cell_type": "code",
   "execution_count": 44,
   "id": "67deb97f",
   "metadata": {},
   "outputs": [
    {
     "data": {
      "text/html": [
       "<div>\n",
       "<style scoped>\n",
       "    .dataframe tbody tr th:only-of-type {\n",
       "        vertical-align: middle;\n",
       "    }\n",
       "\n",
       "    .dataframe tbody tr th {\n",
       "        vertical-align: top;\n",
       "    }\n",
       "\n",
       "    .dataframe thead th {\n",
       "        text-align: right;\n",
       "    }\n",
       "</style>\n",
       "<table border=\"1\" class=\"dataframe\">\n",
       "  <thead>\n",
       "    <tr style=\"text-align: right;\">\n",
       "      <th></th>\n",
       "      <th>age</th>\n",
       "      <th>bmi</th>\n",
       "      <th>children</th>\n",
       "      <th>charges</th>\n",
       "      <th>age_NORM</th>\n",
       "      <th>charges_NORM</th>\n",
       "    </tr>\n",
       "  </thead>\n",
       "  <tbody>\n",
       "    <tr>\n",
       "      <th>0</th>\n",
       "      <td>19.0</td>\n",
       "      <td>27.90</td>\n",
       "      <td>0</td>\n",
       "      <td>16884.9240</td>\n",
       "      <td>0.207720</td>\n",
       "      <td>129.942002</td>\n",
       "    </tr>\n",
       "    <tr>\n",
       "      <th>1</th>\n",
       "      <td>18.0</td>\n",
       "      <td>33.77</td>\n",
       "      <td>1</td>\n",
       "      <td>1725.5523</td>\n",
       "      <td>-0.244121</td>\n",
       "      <td>41.539768</td>\n",
       "    </tr>\n",
       "  </tbody>\n",
       "</table>\n",
       "</div>"
      ],
      "text/plain": [
       "    age    bmi  children     charges  age_NORM  charges_NORM\n",
       "0  19.0  27.90         0  16884.9240  0.207720    129.942002\n",
       "1  18.0  33.77         1   1725.5523 -0.244121     41.539768"
      ]
     },
     "execution_count": 44,
     "metadata": {},
     "output_type": "execute_result"
    }
   ],
   "source": [
    "numericas.head(2)"
   ]
  },
  {
   "cell_type": "code",
   "execution_count": 45,
   "id": "dd58f705",
   "metadata": {},
   "outputs": [
    {
     "data": {
      "image/png": "[encoded data removed]",
      "text/plain": [
       "<Figure size 1080x360 with 2 Axes>"
      ]
     },
     "metadata": {
      "needs_background": "light"
     },
     "output_type": "display_data"
    }
   ],
   "source": [
    "fig, axes = plt.subplots(1, 2, figsize = (15,5))\n",
    "\n",
    "axes[0].set_title('MoSold original')\n",
    "axes[1].set_title('MoSold normalizado')\n",
    "\n",
    "sns.distplot(numericas['charges'] ,ax = axes[0])\n",
    "sns.distplot(numericas['charges_NORM'], ax = axes[1]);"
   ]
  },
  {
   "cell_type": "markdown",
   "id": "fb436f56",
   "metadata": {},
   "source": [
    "### stats.boxcox()\n"
   ]
  },
  {
   "cell_type": "markdown",
   "id": "3f01eecd",
   "metadata": {},
   "source": [
    "Al igual que en las transformaciones logarítmicas **esta función requiere que la entrada sea positiva**. \n",
    "\n",
    "\n",
    "Una transformación Box cox se define como una forma de transformar las variables dependientes no normales de nuestros datos a una forma normal a través de la cual podemos realizar muchas más pruebas de las que podríamos hacer.\n",
    "\n",
    "Aunque no es obligatorio que lo conozcamos, como breve introducción la matemática detrás de la transformación de Box-Cox:\n",
    "\n",
    "¿Cómo podemos convertir nuestro pensamiento intuitivo en una función de transformación matemática? La transformación logarítmica es todo lo que necesitamos. Cuando se aplica una transformación logarítmica a una distribución no normal, se intenta ampliar las diferencias entre los valores más pequeños porque la pendiente de la función logarítmica es más pronunciada para los valores más pequeños, mientras que las diferencias entre los valores más grandes pueden reducirse porque, para los valores grandes, la distribución logarítmica tiene una pendiente moderada.\n",
    "\n",
    "La Transformación Box-cox sólo se preocupa de calcular el valor de lambda que varía de - 5 a 5. Se dice que un valor de lambda es el mejor si es capaz de aproximar la curva no normal a una curva normal.\n",
    "\n",
    "Utilizar esta fórmula manualmente es una tarea muy tediosa, y en Python tenemos implementada esta función. Para ello necesitaremos importar 👇🏽\n",
    "\n",
    "```python\n",
    "from scipy import stats\n",
    "```\n",
    "\n",
    "> Pero ojo!! Este método no nos permitirá meter todas las columnas a la vez, solo acepta Series. Por lo que tendremos que hacerlo variable a variable. \n",
    "\n",
    "📌 **NOTA** Como ya hemos dicho, no es obligatorio que entendamos las matemáticas que hay detrás de esta transformación, pero si alguna tiene más curiosidad os dejamos por aquí [este](https://towardsdatascience.com/notes-about-the-box-cox-transformations-18d7cd594265) artículo donde lo explica un poco más en detalle. \n",
    "\n",
    "Recordad que si no lo podéis ver tenéis que copiar el link e iros a una pestaña en incógnito y lo podréis ver sin problema !!!"
   ]
  },
  {
   "cell_type": "code",
   "execution_count": 20,
   "id": "a5f87e41",
   "metadata": {
    "scrolled": true
   },
   "outputs": [],
   "source": [
    "# si lo aplicaramos solo a una columna lo haríamos de la siguiente forma: \n",
    "\n",
    "numericas['SalePrice_NORM'], lambda_ajustada = stats.boxcox(numericas['SalePrice'])\n"
   ]
  },
  {
   "cell_type": "code",
   "execution_count": 21,
   "id": "a5d40ca6",
   "metadata": {},
   "outputs": [
    {
     "data": {
      "text/plain": [
       "-0.07692391328663316"
      ]
     },
     "execution_count": 21,
     "metadata": {},
     "output_type": "execute_result"
    }
   ],
   "source": [
    "# el valor de lambda en esta tranformación sería\n",
    "lambda_ajustada"
   ]
  },
  {
   "cell_type": "code",
   "execution_count": 22,
   "id": "f10393e6",
   "metadata": {},
   "outputs": [
    {
     "data": {
      "text/html": [
       "<div>\n",
       "<style scoped>\n",
       "    .dataframe tbody tr th:only-of-type {\n",
       "        vertical-align: middle;\n",
       "    }\n",
       "\n",
       "    .dataframe tbody tr th {\n",
       "        vertical-align: top;\n",
       "    }\n",
       "\n",
       "    .dataframe thead th {\n",
       "        text-align: right;\n",
       "    }\n",
       "</style>\n",
       "<table border=\"1\" class=\"dataframe\">\n",
       "  <thead>\n",
       "    <tr style=\"text-align: right;\">\n",
       "      <th></th>\n",
       "      <th>MSSubClass</th>\n",
       "      <th>LotFrontage</th>\n",
       "      <th>LotArea</th>\n",
       "      <th>OverallQual</th>\n",
       "      <th>OverallCond</th>\n",
       "      <th>MasVnrArea</th>\n",
       "      <th>1stFlrSF</th>\n",
       "      <th>2ndFlrSF</th>\n",
       "      <th>GrLivArea</th>\n",
       "      <th>FullBath</th>\n",
       "      <th>KitchenAbvGr</th>\n",
       "      <th>GarageArea</th>\n",
       "      <th>MiscVal</th>\n",
       "      <th>MoSold</th>\n",
       "      <th>SalePrice</th>\n",
       "      <th>GarageArea_NORM</th>\n",
       "      <th>1stFlrSF_NORM</th>\n",
       "      <th>MoSold_NORM</th>\n",
       "      <th>SalePrice_NORM</th>\n",
       "    </tr>\n",
       "  </thead>\n",
       "  <tbody>\n",
       "    <tr>\n",
       "      <th>0</th>\n",
       "      <td>60</td>\n",
       "      <td>65.0</td>\n",
       "      <td>8450</td>\n",
       "      <td>7</td>\n",
       "      <td>5</td>\n",
       "      <td>196.0</td>\n",
       "      <td>856</td>\n",
       "      <td>854</td>\n",
       "      <td>1710</td>\n",
       "      <td>2</td>\n",
       "      <td>1</td>\n",
       "      <td>548</td>\n",
       "      <td>0</td>\n",
       "      <td>2</td>\n",
       "      <td>208500</td>\n",
       "      <td>0.052905</td>\n",
       "      <td>6.752270</td>\n",
       "      <td>1.414214</td>\n",
       "      <td>7.932610</td>\n",
       "    </tr>\n",
       "    <tr>\n",
       "      <th>1</th>\n",
       "      <td>20</td>\n",
       "      <td>80.0</td>\n",
       "      <td>9600</td>\n",
       "      <td>6</td>\n",
       "      <td>8</td>\n",
       "      <td>0.0</td>\n",
       "      <td>1262</td>\n",
       "      <td>0</td>\n",
       "      <td>1262</td>\n",
       "      <td>2</td>\n",
       "      <td>1</td>\n",
       "      <td>460</td>\n",
       "      <td>0</td>\n",
       "      <td>5</td>\n",
       "      <td>181500</td>\n",
       "      <td>-0.009154</td>\n",
       "      <td>7.140453</td>\n",
       "      <td>2.236068</td>\n",
       "      <td>7.878263</td>\n",
       "    </tr>\n",
       "  </tbody>\n",
       "</table>\n",
       "</div>"
      ],
      "text/plain": [
       "   MSSubClass  LotFrontage  LotArea  OverallQual  OverallCond  MasVnrArea  \\\n",
       "0          60         65.0     8450            7            5       196.0   \n",
       "1          20         80.0     9600            6            8         0.0   \n",
       "\n",
       "   1stFlrSF  2ndFlrSF  GrLivArea  FullBath  KitchenAbvGr  GarageArea  MiscVal  \\\n",
       "0       856       854       1710         2             1         548        0   \n",
       "1      1262         0       1262         2             1         460        0   \n",
       "\n",
       "   MoSold  SalePrice  GarageArea_NORM  1stFlrSF_NORM  MoSold_NORM  \\\n",
       "0       2     208500         0.052905       6.752270     1.414214   \n",
       "1       5     181500        -0.009154       7.140453     2.236068   \n",
       "\n",
       "   SalePrice_NORM  \n",
       "0        7.932610  \n",
       "1        7.878263  "
      ]
     },
     "execution_count": 22,
     "metadata": {},
     "output_type": "execute_result"
    }
   ],
   "source": [
    "numericas.head(2)"
   ]
  },
  {
   "cell_type": "code",
   "execution_count": 23,
   "id": "df7f68a1",
   "metadata": {},
   "outputs": [
    {
     "data": {
      "image/png": "[encoded data removed]",
      "text/plain": [
       "<Figure size 1080x360 with 2 Axes>"
      ]
     },
     "metadata": {
      "needs_background": "light"
     },
     "output_type": "display_data"
    }
   ],
   "source": [
    "# ahora chequeemos si nuestra variable tiene una distribución normal\n",
    "\n",
    "fig, axes = plt.subplots(1, 2, figsize = (15,5))\n",
    "\n",
    "axes[0].set_title('SalePrice original')\n",
    "axes[1].set_title('SalePrice normalizado')\n",
    "\n",
    "sns.distplot(numericas['SalePrice'] ,ax = axes[0])\n",
    "sns.distplot(numericas['SalePrice_NORM'], ax = axes[1]);"
   ]
  },
  {
   "cell_type": "code",
   "execution_count": 24,
   "id": "bc8aaefa",
   "metadata": {},
   "outputs": [
    {
     "name": "stdout",
     "output_type": "stream",
     "text": [
      "esta MSSubClass si\n",
      "esta LotFrontage si\n",
      "esta LotArea si\n",
      "esta OverallQual si\n",
      "esta OverallCond si\n",
      "no se pudo hacer la transforamción de MasVnrArea\n",
      "esta 1stFlrSF si\n",
      "no se pudo hacer la transforamción de 2ndFlrSF\n",
      "esta GrLivArea si\n",
      "no se pudo hacer la transforamción de FullBath\n",
      "no se pudo hacer la transforamción de KitchenAbvGr\n",
      "no se pudo hacer la transforamción de GarageArea\n",
      "no se pudo hacer la transforamción de MiscVal\n",
      "esta MoSold si\n",
      "esta SalePrice si\n",
      "no se pudo hacer la transforamción de GarageArea_NORM\n",
      "esta 1stFlrSF_NORM si\n",
      "esta MoSold_NORM si\n",
      "esta SalePrice_NORM si\n"
     ]
    }
   ],
   "source": [
    "# Hagamos esto en un for loop para no tener que repetir una y otra vez la misma líena de código en\n",
    "## caso de que no queremos aplicarlo a todas las columnas\n",
    "\n",
    "lambdas = [] # creamos una lista vacía para ir almacenando los valores de la lambdas\n",
    "\n",
    "for col in numericas.columns:\n",
    "    try:\n",
    "        numericas[col], lambda_ = stats.boxcox(numericas[col])\n",
    "        lambdas.append(lambda_)\n",
    "        print(f'esta {col} si')\n",
    "    except:\n",
    "        print(f'no se pudo hacer la transforamción de {col}')"
   ]
  },
  {
   "cell_type": "markdown",
   "id": "8b4ab075",
   "metadata": {},
   "source": [
    "### Sklearn MinMaxScaller\n"
   ]
  },
  {
   "cell_type": "markdown",
   "id": "0af9da90",
   "metadata": {},
   "source": [
    "Es una e las técnicas de normalizado más importantes. Principalmente va a transformar las variables escalando cada una de ellas a un rango determinado, por defecto lo hará entre 0-1\n",
    "Este estimador escala y traduce cada variable individualmente de manera que se encuentre en el rango dado en el conjunto de entrenamiento, por ejemplo, entre cero y uno.\n",
    "\n",
    "Su sintaxis es: \n",
    "\n",
    "```python\n",
    "MinMaxScaler(feature_range=(0, 1), copy=True, clip=False)\n",
    "```\n",
    "\n",
    "Donde: \n",
    "\n",
    "- `feature_range`: el rango sobre el que queremos normalizar nuestro datos. Por defecto entre 0 - 1. \n",
    "\n",
    "\n",
    "- `copy`: si queremos una copia de nuestra datos normalizada. \n",
    "\n",
    "\n",
    "- `clip`: la pondremos en True para recortar los valores transformados de los datos retenidos en el rango de características proporcionado.\n",
    "\n",
    "\n",
    "Tendremos que usar la siguiente librería 👇🏽\n",
    "\n",
    "```python\n",
    "from sklearn.preprocessing import MinMaxScaler\n",
    "```"
   ]
  },
  {
   "cell_type": "code",
   "execution_count": 25,
   "id": "34b1762a",
   "metadata": {},
   "outputs": [],
   "source": [
    "from sklearn.preprocessing import MinMaxScaler"
   ]
  },
  {
   "cell_type": "code",
   "execution_count": 26,
   "id": "2749e46f",
   "metadata": {},
   "outputs": [],
   "source": [
    "# construir el modelo de escalador\n",
    "minmax = MinMaxScaler()"
   ]
  },
  {
   "cell_type": "code",
   "execution_count": 27,
   "id": "15610f8b",
   "metadata": {},
   "outputs": [
    {
     "data": {
      "text/plain": [
       "MinMaxScaler()"
      ]
     },
     "execution_count": 27,
     "metadata": {},
     "output_type": "execute_result"
    }
   ],
   "source": [
    "# ajustamos el modelo utilizando nuestro set de datos\n",
    "minmax.fit(numericas)\n"
   ]
  },
  {
   "cell_type": "code",
   "execution_count": 28,
   "id": "d7b2fbef",
   "metadata": {},
   "outputs": [],
   "source": [
    "# transformamos los datos\n",
    "X_normalizadas = minmax.transform(numericas)"
   ]
  },
  {
   "cell_type": "code",
   "execution_count": 29,
   "id": "ad294055",
   "metadata": {},
   "outputs": [
    {
     "data": {
      "text/plain": [
       "array([ 0., nan,  0.,  0.,  0., nan,  0.,  0.,  0.,  0.,  0.,  0.,  0.,\n",
       "        0.,  0.,  0.,  0.,  0.,  0.])"
      ]
     },
     "execution_count": 29,
     "metadata": {},
     "output_type": "execute_result"
    }
   ],
   "source": [
    "# Vamos a verificar los valores mínimos después de la normalización\n",
    "X_normalizadas.min(axis=0)\n"
   ]
  },
  {
   "cell_type": "code",
   "execution_count": 30,
   "id": "4e052039",
   "metadata": {},
   "outputs": [
    {
     "data": {
      "text/plain": [
       "array([ 1., nan,  1.,  1.,  1., nan,  1.,  1.,  1.,  1.,  1.,  1.,  1.,\n",
       "        1.,  1.,  1.,  1.,  1.,  1.])"
      ]
     },
     "execution_count": 30,
     "metadata": {},
     "output_type": "execute_result"
    }
   ],
   "source": [
    "# y los máximos?\n",
    "X_normalizadas.max(axis=0)"
   ]
  },
  {
   "cell_type": "markdown",
   "id": "910ad839",
   "metadata": {},
   "source": [
    "Perfecto 💪🏽! Ahora tenemos todos nuestras variables numéricas en la misma escala. Entre 0 y 1 "
   ]
  },
  {
   "cell_type": "code",
   "execution_count": 31,
   "id": "63db3358",
   "metadata": {},
   "outputs": [
    {
     "data": {
      "text/html": [
       "<div>\n",
       "<style scoped>\n",
       "    .dataframe tbody tr th:only-of-type {\n",
       "        vertical-align: middle;\n",
       "    }\n",
       "\n",
       "    .dataframe tbody tr th {\n",
       "        vertical-align: top;\n",
       "    }\n",
       "\n",
       "    .dataframe thead th {\n",
       "        text-align: right;\n",
       "    }\n",
       "</style>\n",
       "<table border=\"1\" class=\"dataframe\">\n",
       "  <thead>\n",
       "    <tr style=\"text-align: right;\">\n",
       "      <th></th>\n",
       "      <th>MSSubClass</th>\n",
       "      <th>LotFrontage</th>\n",
       "      <th>LotArea</th>\n",
       "      <th>OverallQual</th>\n",
       "      <th>OverallCond</th>\n",
       "      <th>MasVnrArea</th>\n",
       "      <th>1stFlrSF</th>\n",
       "      <th>2ndFlrSF</th>\n",
       "      <th>GrLivArea</th>\n",
       "      <th>FullBath</th>\n",
       "      <th>KitchenAbvGr</th>\n",
       "      <th>GarageArea</th>\n",
       "      <th>MiscVal</th>\n",
       "      <th>MoSold</th>\n",
       "      <th>SalePrice</th>\n",
       "      <th>GarageArea_NORM</th>\n",
       "      <th>1stFlrSF_NORM</th>\n",
       "      <th>MoSold_NORM</th>\n",
       "      <th>SalePrice_NORM</th>\n",
       "    </tr>\n",
       "  </thead>\n",
       "  <tbody>\n",
       "    <tr>\n",
       "      <th>0</th>\n",
       "      <td>0.547126</td>\n",
       "      <td>0.000002</td>\n",
       "      <td>0.348130</td>\n",
       "      <td>0.712193</td>\n",
       "      <td>0.638418</td>\n",
       "      <td>0.1225</td>\n",
       "      <td>0.380257</td>\n",
       "      <td>0.413559</td>\n",
       "      <td>0.575537</td>\n",
       "      <td>0.666667</td>\n",
       "      <td>0.333333</td>\n",
       "      <td>0.386460</td>\n",
       "      <td>0.0</td>\n",
       "      <td>0.121211</td>\n",
       "      <td>0.609990</td>\n",
       "      <td>0.386460</td>\n",
       "      <td>0.379764</td>\n",
       "      <td>0.121211</td>\n",
       "      <td>0.606655</td>\n",
       "    </tr>\n",
       "    <tr>\n",
       "      <th>1</th>\n",
       "      <td>0.000000</td>\n",
       "      <td>0.000010</td>\n",
       "      <td>0.372603</td>\n",
       "      <td>0.610067</td>\n",
       "      <td>0.920332</td>\n",
       "      <td>0.0000</td>\n",
       "      <td>0.529065</td>\n",
       "      <td>0.000000</td>\n",
       "      <td>0.468025</td>\n",
       "      <td>0.666667</td>\n",
       "      <td>0.333333</td>\n",
       "      <td>0.324401</td>\n",
       "      <td>0.0</td>\n",
       "      <td>0.423074</td>\n",
       "      <td>0.565605</td>\n",
       "      <td>0.324401</td>\n",
       "      <td>0.528070</td>\n",
       "      <td>0.423074</td>\n",
       "      <td>0.562154</td>\n",
       "    </tr>\n",
       "  </tbody>\n",
       "</table>\n",
       "</div>"
      ],
      "text/plain": [
       "   MSSubClass  LotFrontage   LotArea  OverallQual  OverallCond  MasVnrArea  \\\n",
       "0    0.547126     0.000002  0.348130     0.712193     0.638418      0.1225   \n",
       "1    0.000000     0.000010  0.372603     0.610067     0.920332      0.0000   \n",
       "\n",
       "   1stFlrSF  2ndFlrSF  GrLivArea  FullBath  KitchenAbvGr  GarageArea  MiscVal  \\\n",
       "0  0.380257  0.413559   0.575537  0.666667      0.333333    0.386460      0.0   \n",
       "1  0.529065  0.000000   0.468025  0.666667      0.333333    0.324401      0.0   \n",
       "\n",
       "     MoSold  SalePrice  GarageArea_NORM  1stFlrSF_NORM  MoSold_NORM  \\\n",
       "0  0.121211   0.609990         0.386460       0.379764     0.121211   \n",
       "1  0.423074   0.565605         0.324401       0.528070     0.423074   \n",
       "\n",
       "   SalePrice_NORM  \n",
       "0        0.606655  \n",
       "1        0.562154  "
      ]
     },
     "execution_count": 31,
     "metadata": {},
     "output_type": "execute_result"
    }
   ],
   "source": [
    "# por último convertiremos el array que nos devuelve en un dataframe. \n",
    "\n",
    "numericas_minmax = pd.DataFrame(X_normalizadas, columns = numericas.columns)\n",
    "numericas_minmax.head(2)"
   ]
  },
  {
   "cell_type": "markdown",
   "id": "5cf93b0c",
   "metadata": {},
   "source": [
    "# Estandarización"
   ]
  },
  {
   "cell_type": "markdown",
   "id": "6d43a5b7",
   "metadata": {},
   "source": [
    "## Qué es la estandarización y cuando usarla "
   ]
  },
  {
   "cell_type": "markdown",
   "id": "9b5a303a",
   "metadata": {},
   "source": [
    "Estandarizar generalmente significa cambiar los valores de nuestras columnas de manera que la desviación estándar de la distribución sea igual a uno y la media igual a 0. \n",
    "\n",
    "$$Z =  \\frac{X - µ}{Ω}$$\n",
    "\n",
    "Donde:\n",
    "\n",
    "- `X`: es el valor que queremos normalizar.\n",
    "\n",
    "\n",
    "- `µ`: es la media de todos los valores que queremos normalizar.\n",
    "\n",
    "\n",
    "- `Ω`: es la desviación estandar de los valores que queremos normalizar."
   ]
  },
  {
   "cell_type": "markdown",
   "id": "33c080ef",
   "metadata": {},
   "source": [
    "##  Tipos de estandarización"
   ]
  },
  {
   "cell_type": "code",
   "execution_count": 32,
   "id": "62f1f885",
   "metadata": {},
   "outputs": [
    {
     "data": {
      "text/html": [
       "<div>\n",
       "<style scoped>\n",
       "    .dataframe tbody tr th:only-of-type {\n",
       "        vertical-align: middle;\n",
       "    }\n",
       "\n",
       "    .dataframe tbody tr th {\n",
       "        vertical-align: top;\n",
       "    }\n",
       "\n",
       "    .dataframe thead th {\n",
       "        text-align: right;\n",
       "    }\n",
       "</style>\n",
       "<table border=\"1\" class=\"dataframe\">\n",
       "  <thead>\n",
       "    <tr style=\"text-align: right;\">\n",
       "      <th></th>\n",
       "      <th>MSSubClass</th>\n",
       "      <th>LotFrontage</th>\n",
       "      <th>LotArea</th>\n",
       "      <th>OverallQual</th>\n",
       "      <th>OverallCond</th>\n",
       "      <th>MasVnrArea</th>\n",
       "      <th>1stFlrSF</th>\n",
       "      <th>2ndFlrSF</th>\n",
       "      <th>GrLivArea</th>\n",
       "      <th>FullBath</th>\n",
       "      <th>KitchenAbvGr</th>\n",
       "      <th>GarageArea</th>\n",
       "      <th>MiscVal</th>\n",
       "      <th>MoSold</th>\n",
       "      <th>SalePrice</th>\n",
       "      <th>GarageArea_NORM</th>\n",
       "      <th>1stFlrSF_NORM</th>\n",
       "      <th>MoSold_NORM</th>\n",
       "      <th>SalePrice_NORM</th>\n",
       "    </tr>\n",
       "  </thead>\n",
       "  <tbody>\n",
       "    <tr>\n",
       "      <th>0</th>\n",
       "      <td>2.742416</td>\n",
       "      <td>2.699326e+14</td>\n",
       "      <td>10.433680</td>\n",
       "      <td>4.470077</td>\n",
       "      <td>2.287343</td>\n",
       "      <td>196.0</td>\n",
       "      <td>5.235744</td>\n",
       "      <td>854</td>\n",
       "      <td>7.621714</td>\n",
       "      <td>2</td>\n",
       "      <td>1</td>\n",
       "      <td>548</td>\n",
       "      <td>0</td>\n",
       "      <td>0.917985</td>\n",
       "      <td>7.932610</td>\n",
       "      <td>0.052905</td>\n",
       "      <td>3.069762</td>\n",
       "      <td>0.458993</td>\n",
       "      <td>8.902347</td>\n",
       "    </tr>\n",
       "    <tr>\n",
       "      <th>1</th>\n",
       "      <td>2.220973</td>\n",
       "      <td>1.567631e+15</td>\n",
       "      <td>10.602809</td>\n",
       "      <td>3.829085</td>\n",
       "      <td>3.297391</td>\n",
       "      <td>0.0</td>\n",
       "      <td>5.460253</td>\n",
       "      <td>0</td>\n",
       "      <td>7.303624</td>\n",
       "      <td>2</td>\n",
       "      <td>1</td>\n",
       "      <td>460</td>\n",
       "      <td>0</td>\n",
       "      <td>3.204135</td>\n",
       "      <td>7.878263</td>\n",
       "      <td>-0.009154</td>\n",
       "      <td>3.206881</td>\n",
       "      <td>1.602067</td>\n",
       "      <td>8.823622</td>\n",
       "    </tr>\n",
       "  </tbody>\n",
       "</table>\n",
       "</div>"
      ],
      "text/plain": [
       "   MSSubClass   LotFrontage    LotArea  OverallQual  OverallCond  MasVnrArea  \\\n",
       "0    2.742416  2.699326e+14  10.433680     4.470077     2.287343       196.0   \n",
       "1    2.220973  1.567631e+15  10.602809     3.829085     3.297391         0.0   \n",
       "\n",
       "   1stFlrSF  2ndFlrSF  GrLivArea  FullBath  KitchenAbvGr  GarageArea  MiscVal  \\\n",
       "0  5.235744       854   7.621714         2             1         548        0   \n",
       "1  5.460253         0   7.303624         2             1         460        0   \n",
       "\n",
       "     MoSold  SalePrice  GarageArea_NORM  1stFlrSF_NORM  MoSold_NORM  \\\n",
       "0  0.917985   7.932610         0.052905       3.069762     0.458993   \n",
       "1  3.204135   7.878263        -0.009154       3.206881     1.602067   \n",
       "\n",
       "   SalePrice_NORM  \n",
       "0        8.902347  \n",
       "1        8.823622  "
      ]
     },
     "execution_count": 32,
     "metadata": {},
     "output_type": "execute_result"
    }
   ],
   "source": [
    "numericas.head(2)"
   ]
  },
  {
   "cell_type": "markdown",
   "id": "ce4deb86",
   "metadata": {},
   "source": [
    "### Manualmente \n",
    "\n",
    "Para poder hacerlo manualmente lo único que tendremos que hacer es aplicar la fórmula de arriba a la columna o columnas que queramos. "
   ]
  },
  {
   "cell_type": "code",
   "execution_count": 33,
   "id": "2f68629d",
   "metadata": {},
   "outputs": [
    {
     "data": {
      "text/plain": [
       "Index(['MSSubClass', 'LotFrontage', 'LotArea', 'OverallQual', 'OverallCond',\n",
       "       'MasVnrArea', '1stFlrSF', '2ndFlrSF', 'GrLivArea', 'FullBath',\n",
       "       'KitchenAbvGr', 'GarageArea', 'MiscVal', 'MoSold', 'SalePrice',\n",
       "       'GarageArea_NORM', '1stFlrSF_NORM', 'MoSold_NORM', 'SalePrice_NORM'],\n",
       "      dtype='object')"
      ]
     },
     "execution_count": 33,
     "metadata": {},
     "output_type": "execute_result"
    }
   ],
   "source": [
    "numericas.columns"
   ]
  },
  {
   "cell_type": "code",
   "execution_count": 46,
   "id": "1ae0b2b2",
   "metadata": {},
   "outputs": [],
   "source": [
    "# vamos a crear distintas variables con los estadísticos que necesitamos, media y desviacion estándar\n",
    "\n",
    "media = numericas[\"charges\"].mean()\n",
    "desviacion = numericas[\"charges\"].std() \n"
   ]
  },
  {
   "cell_type": "code",
   "execution_count": 47,
   "id": "4fc113e8",
   "metadata": {},
   "outputs": [],
   "source": [
    "numericas[\"charges_ESTA\"] = (numericas[\"charges\"] - media) / desviacion"
   ]
  },
  {
   "cell_type": "code",
   "execution_count": 48,
   "id": "87de8d00",
   "metadata": {},
   "outputs": [
    {
     "data": {
      "text/html": [
       "<div>\n",
       "<style scoped>\n",
       "    .dataframe tbody tr th:only-of-type {\n",
       "        vertical-align: middle;\n",
       "    }\n",
       "\n",
       "    .dataframe tbody tr th {\n",
       "        vertical-align: top;\n",
       "    }\n",
       "\n",
       "    .dataframe thead th {\n",
       "        text-align: right;\n",
       "    }\n",
       "</style>\n",
       "<table border=\"1\" class=\"dataframe\">\n",
       "  <thead>\n",
       "    <tr style=\"text-align: right;\">\n",
       "      <th></th>\n",
       "      <th>age</th>\n",
       "      <th>bmi</th>\n",
       "      <th>children</th>\n",
       "      <th>charges</th>\n",
       "      <th>age_NORM</th>\n",
       "      <th>charges_NORM</th>\n",
       "      <th>charges_ESTA</th>\n",
       "    </tr>\n",
       "  </thead>\n",
       "  <tbody>\n",
       "    <tr>\n",
       "      <th>0</th>\n",
       "      <td>19.0</td>\n",
       "      <td>27.90</td>\n",
       "      <td>0</td>\n",
       "      <td>16884.9240</td>\n",
       "      <td>0.207720</td>\n",
       "      <td>129.942002</td>\n",
       "      <td>1.006034</td>\n",
       "    </tr>\n",
       "    <tr>\n",
       "      <th>1</th>\n",
       "      <td>18.0</td>\n",
       "      <td>33.77</td>\n",
       "      <td>1</td>\n",
       "      <td>1725.5523</td>\n",
       "      <td>-0.244121</td>\n",
       "      <td>41.539768</td>\n",
       "      <td>-1.182331</td>\n",
       "    </tr>\n",
       "  </tbody>\n",
       "</table>\n",
       "</div>"
      ],
      "text/plain": [
       "    age    bmi  children     charges  age_NORM  charges_NORM  charges_ESTA\n",
       "0  19.0  27.90         0  16884.9240  0.207720    129.942002      1.006034\n",
       "1  18.0  33.77         1   1725.5523 -0.244121     41.539768     -1.182331"
      ]
     },
     "execution_count": 48,
     "metadata": {},
     "output_type": "execute_result"
    }
   ],
   "source": [
    "numericas.head(2)"
   ]
  },
  {
   "cell_type": "code",
   "execution_count": 49,
   "id": "c56e432e",
   "metadata": {},
   "outputs": [
    {
     "data": {
      "image/png": "[encoded data removed]",
      "text/plain": [
       "<Figure size 1080x360 with 2 Axes>"
      ]
     },
     "metadata": {
      "needs_background": "light"
     },
     "output_type": "display_data"
    }
   ],
   "source": [
    "fig, axes = plt.subplots(1, 2, figsize = (15,5))\n",
    "\n",
    "axes[0].set_title('GarageArea original')\n",
    "axes[1].set_title('GarageArea normalizado')\n",
    "\n",
    "sns.distplot(numericas['charges'] ,ax = axes[0])\n",
    "sns.distplot(numericas['charges_ESTA'], ax = axes[1]);"
   ]
  },
  {
   "cell_type": "markdown",
   "id": "58e71513",
   "metadata": {},
   "source": [
    "Si nos fijamos en los gráficas, ahora vemos que tenemos nuestros datos ajustados a una media de 0 y desviación de 1 👏🏽"
   ]
  },
  {
   "cell_type": "markdown",
   "id": "3f805bd2",
   "metadata": {},
   "source": [
    "### Sklearn StandardScaler\n",
    "\n",
    "La estandarización que hemos visto antes, la podemos hacer también con un método de sklearn, veamos como. \n",
    "\n",
    "StandardScaler es el algoritmo más utilizado. Estandariza una característica restando la media y luego escalando a la varianza unitaria. La varianza unitaria significa dividir todos los valores por la desviación estándar. \n",
    "\n",
    "\n",
    "Nos va a dar como resultado una distribución con una desviación estándar igual a 1. La varianza es igual a 1 también, porque varianza = desviación estándar al cuadrado. Y 1 al cuadrado = 1.\n",
    "StandardScaler hace que la media de la distribución sea aproximadamente 0.\n",
    "\n",
    "Su sintaxis:\n",
    "\n",
    "```python\n",
    "StandardScaler(copy=True, with_mean=True, with_std=True)\n",
    "```\n",
    "\n",
    "\n",
    "Donde: \n",
    "\n",
    "- `copy`: si queremos una copia de nuestra datos normalizada. \n",
    "\n",
    "\n",
    "- `with_mean`: booleano. Por defecto True.  Si es True, centra los datos antes de escalarlos. \n",
    "\n",
    "\n",
    "- `with_std`: booleano. Por defecto True. Si es Verdadero, escala los datos a una varianza unitaria (o equivalentemente, a una desviación estándar unitaria).\n",
    "\n",
    "Usaremos la siguiente librería\n",
    "\n",
    "```python\n",
    "from sklearn.preprocessing import StandardScaler\n",
    "```"
   ]
  },
  {
   "cell_type": "code",
   "execution_count": 38,
   "id": "ef675ab6",
   "metadata": {},
   "outputs": [],
   "source": [
    "from sklearn.preprocessing import StandardScaler"
   ]
  },
  {
   "cell_type": "code",
   "execution_count": 39,
   "id": "7f449401",
   "metadata": {},
   "outputs": [],
   "source": [
    "# iniciamos el método para escalar\n",
    "\n",
    "scaler = StandardScaler()"
   ]
  },
  {
   "cell_type": "code",
   "execution_count": 40,
   "id": "67005a19",
   "metadata": {},
   "outputs": [
    {
     "data": {
      "text/plain": [
       "StandardScaler()"
      ]
     },
     "execution_count": 40,
     "metadata": {},
     "output_type": "execute_result"
    }
   ],
   "source": [
    "# ajustamos nuestros datos\n",
    "\n",
    "scaler.fit(numericas)"
   ]
  },
  {
   "cell_type": "code",
   "execution_count": 41,
   "id": "d25a68e0",
   "metadata": {},
   "outputs": [],
   "source": [
    "# transformamos los datos. \n",
    "\n",
    "X_escaladas = scaler.transform(numericas)"
   ]
  },
  {
   "cell_type": "code",
   "execution_count": 42,
   "id": "8bd20ad9",
   "metadata": {},
   "outputs": [
    {
     "data": {
      "text/html": [
       "<div>\n",
       "<style scoped>\n",
       "    .dataframe tbody tr th:only-of-type {\n",
       "        vertical-align: middle;\n",
       "    }\n",
       "\n",
       "    .dataframe tbody tr th {\n",
       "        vertical-align: top;\n",
       "    }\n",
       "\n",
       "    .dataframe thead th {\n",
       "        text-align: right;\n",
       "    }\n",
       "</style>\n",
       "<table border=\"1\" class=\"dataframe\">\n",
       "  <thead>\n",
       "    <tr style=\"text-align: right;\">\n",
       "      <th></th>\n",
       "      <th>MSSubClass</th>\n",
       "      <th>LotFrontage</th>\n",
       "      <th>LotArea</th>\n",
       "      <th>OverallQual</th>\n",
       "      <th>OverallCond</th>\n",
       "      <th>MasVnrArea</th>\n",
       "      <th>1stFlrSF</th>\n",
       "      <th>2ndFlrSF</th>\n",
       "      <th>GrLivArea</th>\n",
       "      <th>FullBath</th>\n",
       "      <th>KitchenAbvGr</th>\n",
       "      <th>GarageArea</th>\n",
       "      <th>MiscVal</th>\n",
       "      <th>MoSold</th>\n",
       "      <th>SalePrice</th>\n",
       "      <th>GarageArea_NORM</th>\n",
       "      <th>1stFlrSF_NORM</th>\n",
       "      <th>MoSold_NORM</th>\n",
       "      <th>SalePrice_NORM</th>\n",
       "      <th>SalePrice_ESTA</th>\n",
       "    </tr>\n",
       "  </thead>\n",
       "  <tbody>\n",
       "    <tr>\n",
       "      <th>0</th>\n",
       "      <td>0.494880</td>\n",
       "      <td>-0.042217</td>\n",
       "      <td>-0.141167</td>\n",
       "      <td>0.665774</td>\n",
       "      <td>-0.479737</td>\n",
       "      <td>0.510015</td>\n",
       "      <td>-0.799591</td>\n",
       "      <td>1.161852</td>\n",
       "      <td>0.528505</td>\n",
       "      <td>0.789741</td>\n",
       "      <td>-0.211454</td>\n",
       "      <td>0.351000</td>\n",
       "      <td>-0.087688</td>\n",
       "      <td>-1.696395</td>\n",
       "      <td>0.571154</td>\n",
       "      <td>0.351000</td>\n",
       "      <td>-0.79934</td>\n",
       "      <td>-1.696395</td>\n",
       "      <td>0.569962</td>\n",
       "      <td>0.571154</td>\n",
       "    </tr>\n",
       "    <tr>\n",
       "      <th>1</th>\n",
       "      <td>-1.165337</td>\n",
       "      <td>-0.042023</td>\n",
       "      <td>0.105604</td>\n",
       "      <td>-0.044296</td>\n",
       "      <td>2.025054</td>\n",
       "      <td>-0.572835</td>\n",
       "      <td>0.429125</td>\n",
       "      <td>-0.795163</td>\n",
       "      <td>-0.382746</td>\n",
       "      <td>0.789741</td>\n",
       "      <td>-0.211454</td>\n",
       "      <td>-0.060731</td>\n",
       "      <td>-0.087688</td>\n",
       "      <td>-0.440850</td>\n",
       "      <td>0.227627</td>\n",
       "      <td>-0.060731</td>\n",
       "      <td>0.42861</td>\n",
       "      <td>-0.440850</td>\n",
       "      <td>0.225923</td>\n",
       "      <td>0.227627</td>\n",
       "    </tr>\n",
       "  </tbody>\n",
       "</table>\n",
       "</div>"
      ],
      "text/plain": [
       "   MSSubClass  LotFrontage   LotArea  OverallQual  OverallCond  MasVnrArea  \\\n",
       "0    0.494880    -0.042217 -0.141167     0.665774    -0.479737    0.510015   \n",
       "1   -1.165337    -0.042023  0.105604    -0.044296     2.025054   -0.572835   \n",
       "\n",
       "   1stFlrSF  2ndFlrSF  GrLivArea  FullBath  KitchenAbvGr  GarageArea  \\\n",
       "0 -0.799591  1.161852   0.528505  0.789741     -0.211454    0.351000   \n",
       "1  0.429125 -0.795163  -0.382746  0.789741     -0.211454   -0.060731   \n",
       "\n",
       "    MiscVal    MoSold  SalePrice  GarageArea_NORM  1stFlrSF_NORM  MoSold_NORM  \\\n",
       "0 -0.087688 -1.696395   0.571154         0.351000       -0.79934    -1.696395   \n",
       "1 -0.087688 -0.440850   0.227627        -0.060731        0.42861    -0.440850   \n",
       "\n",
       "   SalePrice_NORM  SalePrice_ESTA  \n",
       "0        0.569962        0.571154  \n",
       "1        0.225923        0.227627  "
      ]
     },
     "execution_count": 42,
     "metadata": {},
     "output_type": "execute_result"
    }
   ],
   "source": [
    "# por último convertiremos el array que nos devuelve en un dataframe. \n",
    "\n",
    "numericas_estandar = pd.DataFrame(X_escaladas, columns = numericas.columns)\n",
    "numericas_estandar.head(2)"
   ]
  },
  {
   "cell_type": "markdown",
   "id": "0e516524",
   "metadata": {},
   "source": [
    "### Sklearn RobustScaler\n",
    "\n",
    "RobustScaler transforma muestra variable restando la mediana y dividiéndola por el rango intercuartil (valor del 75% - valor del 25%).\n",
    "\n",
    "Al igual que MinMaxScaler, nuestra variable con valores altos tendra ahora una escala similar a la de las otras variables. Tenemos que tene en cuenta que este método no escala los datos en un intervalo predeterminado como MinMaxScaler. No cumple con la definición estricta de escala definimos al incio.\n",
    "\n",
    "Por lo tanto, el rango de cada variable después de aplicar RobustScaler será mayor que el de MinMaxScaler.\n",
    "\n",
    "Utilizaremos este método si deseamos reducir los efectos de los *outliers*. \n",
    "\n",
    "Su sintaxis:\n",
    "\n",
    "```python\n",
    "RobustScaler(with_centering=True, with_scaling=True, quantile_range=(25.0, 75.0), copy=True, unit_variance=False)\n",
    "```\n",
    "Donde: \n",
    "\n",
    "- `with_centering`: booleano. Por defecto True. Si es True, centra los datos antes de escalar. \n",
    "\n",
    "\n",
    "- `with_scaling`: booleano. Por defecto True. Si es True, escala los datos al rango intercuartílico.\n",
    "\n",
    "\n",
    "- `quantile_rangetuple`: Por defecto, esto es igual al IQR, es decir, q_min es el primer cuantil y q_max es el tercer cuantil. (q_min, q_max), 0.0 < q_min < q_max < 100.0, predeterminado=(25.0, 75.0)\n",
    "Rango de cuantiles utilizado para calcular el escalado. \n",
    "\n",
    "\n",
    "- `copy`: booleano. Por defecto True. Si es Falso, intente evitar una copia y, en su lugar, realice una escala en el lugar. Pero tenemos que tener en cuenta que no se garantiza que esto funcione siempre en el lugar; p.ej. si los datos no son una matriz NumPy o una matriz CSR scipy.sparse, aún se puede devolver una copia.\n",
    "\n",
    "- `unit_variance`: booleano. Por defecto False. Si es Verdadero, escalamos los datos para que las variables distribuidas normalmente tengan una variación de 1. En general, si la diferencia entre los valores x de q_max y q_min para una distribución normal estándar es mayor que 1, el conjunto de datos se reducirá. Si es menor que 1, el conjunto de datos se ampliará.\n",
    "\n",
    "Necesitaremos importar la siguiente librería 👇🏽\n",
    "\n",
    "```python\n",
    "from sklearn.preprocessing import RobustScaler\n",
    "```\n"
   ]
  },
  {
   "cell_type": "code",
   "execution_count": 43,
   "id": "6d3cd3c1",
   "metadata": {},
   "outputs": [],
   "source": [
    "from sklearn.preprocessing import RobustScaler"
   ]
  },
  {
   "cell_type": "code",
   "execution_count": 44,
   "id": "5d59a651",
   "metadata": {},
   "outputs": [],
   "source": [
    "# construir el modelo de escalador\n",
    "robust = RobustScaler()"
   ]
  },
  {
   "cell_type": "code",
   "execution_count": 45,
   "id": "2898e9f5",
   "metadata": {},
   "outputs": [
    {
     "data": {
      "text/plain": [
       "RobustScaler()"
      ]
     },
     "execution_count": 45,
     "metadata": {},
     "output_type": "execute_result"
    }
   ],
   "source": [
    "# ajustamos el modelo utilizando nuestro set de datos\n",
    "robust.fit(numericas)\n"
   ]
  },
  {
   "cell_type": "code",
   "execution_count": 46,
   "id": "2f08cf24",
   "metadata": {},
   "outputs": [],
   "source": [
    "# transformamos los datos\n",
    "X_robust = robust.transform(numericas)"
   ]
  },
  {
   "cell_type": "code",
   "execution_count": 47,
   "id": "aaf71b22",
   "metadata": {},
   "outputs": [
    {
     "data": {
      "text/html": [
       "<div>\n",
       "<style scoped>\n",
       "    .dataframe tbody tr th:only-of-type {\n",
       "        vertical-align: middle;\n",
       "    }\n",
       "\n",
       "    .dataframe tbody tr th {\n",
       "        vertical-align: top;\n",
       "    }\n",
       "\n",
       "    .dataframe thead th {\n",
       "        text-align: right;\n",
       "    }\n",
       "</style>\n",
       "<table border=\"1\" class=\"dataframe\">\n",
       "  <thead>\n",
       "    <tr style=\"text-align: right;\">\n",
       "      <th></th>\n",
       "      <th>MSSubClass</th>\n",
       "      <th>LotFrontage</th>\n",
       "      <th>LotArea</th>\n",
       "      <th>OverallQual</th>\n",
       "      <th>OverallCond</th>\n",
       "      <th>MasVnrArea</th>\n",
       "      <th>1stFlrSF</th>\n",
       "      <th>2ndFlrSF</th>\n",
       "      <th>GrLivArea</th>\n",
       "      <th>FullBath</th>\n",
       "      <th>KitchenAbvGr</th>\n",
       "      <th>GarageArea</th>\n",
       "      <th>MiscVal</th>\n",
       "      <th>MoSold</th>\n",
       "      <th>SalePrice</th>\n",
       "      <th>GarageArea_NORM</th>\n",
       "      <th>1stFlrSF_NORM</th>\n",
       "      <th>MoSold_NORM</th>\n",
       "      <th>SalePrice_NORM</th>\n",
       "      <th>SalePrice_ESTA</th>\n",
       "    </tr>\n",
       "  </thead>\n",
       "  <tbody>\n",
       "    <tr>\n",
       "      <th>0</th>\n",
       "      <td>0.133919</td>\n",
       "      <td>-0.122699</td>\n",
       "      <td>-0.267287</td>\n",
       "      <td>0.490043</td>\n",
       "      <td>0.000000</td>\n",
       "      <td>1.180723</td>\n",
       "      <td>-0.529914</td>\n",
       "      <td>1.173077</td>\n",
       "      <td>0.343103</td>\n",
       "      <td>0.0</td>\n",
       "      <td>0.0</td>\n",
       "      <td>0.281573</td>\n",
       "      <td>0.0</td>\n",
       "      <td>-1.501594</td>\n",
       "      <td>0.489914</td>\n",
       "      <td>0.281573</td>\n",
       "      <td>-0.529772</td>\n",
       "      <td>-1.501594</td>\n",
       "      <td>0.490365</td>\n",
       "      <td>0.489914</td>\n",
       "    </tr>\n",
       "    <tr>\n",
       "      <th>1</th>\n",
       "      <td>-0.756803</td>\n",
       "      <td>0.773003</td>\n",
       "      <td>0.029699</td>\n",
       "      <td>0.000000</td>\n",
       "      <td>2.739691</td>\n",
       "      <td>0.000000</td>\n",
       "      <td>0.326078</td>\n",
       "      <td>0.000000</td>\n",
       "      <td>-0.327665</td>\n",
       "      <td>0.0</td>\n",
       "      <td>0.0</td>\n",
       "      <td>-0.082816</td>\n",
       "      <td>0.0</td>\n",
       "      <td>-0.345321</td>\n",
       "      <td>0.215076</td>\n",
       "      <td>-0.082816</td>\n",
       "      <td>0.326097</td>\n",
       "      <td>-0.345321</td>\n",
       "      <td>0.215142</td>\n",
       "      <td>0.215076</td>\n",
       "    </tr>\n",
       "  </tbody>\n",
       "</table>\n",
       "</div>"
      ],
      "text/plain": [
       "   MSSubClass  LotFrontage   LotArea  OverallQual  OverallCond  MasVnrArea  \\\n",
       "0    0.133919    -0.122699 -0.267287     0.490043     0.000000    1.180723   \n",
       "1   -0.756803     0.773003  0.029699     0.000000     2.739691    0.000000   \n",
       "\n",
       "   1stFlrSF  2ndFlrSF  GrLivArea  FullBath  KitchenAbvGr  GarageArea  MiscVal  \\\n",
       "0 -0.529914  1.173077   0.343103       0.0           0.0    0.281573      0.0   \n",
       "1  0.326078  0.000000  -0.327665       0.0           0.0   -0.082816      0.0   \n",
       "\n",
       "     MoSold  SalePrice  GarageArea_NORM  1stFlrSF_NORM  MoSold_NORM  \\\n",
       "0 -1.501594   0.489914         0.281573      -0.529772    -1.501594   \n",
       "1 -0.345321   0.215076        -0.082816       0.326097    -0.345321   \n",
       "\n",
       "   SalePrice_NORM  SalePrice_ESTA  \n",
       "0        0.490365        0.489914  \n",
       "1        0.215142        0.215076  "
      ]
     },
     "execution_count": 47,
     "metadata": {},
     "output_type": "execute_result"
    }
   ],
   "source": [
    "# por último convertiremos el array que nos devuelve en un dataframe. \n",
    "\n",
    "numericas_robust = pd.DataFrame(X_robust, columns = numericas.columns)\n",
    "numericas_robust.head(2)"
   ]
  },
  {
   "cell_type": "markdown",
   "id": "41f0ac4f",
   "metadata": {},
   "source": [
    "# Diferencias entre normalización y estandarización"
   ]
  },
  {
   "cell_type": "markdown",
   "id": "1940081f",
   "metadata": {},
   "source": [
    "Para terminar esta lección hagamos un pequeño resumen de las diferencias entre normalización y estandarización\n",
    "\n",
    "\n",
    "- Cuando se utiliza la estandarización, los nuevos datos no están acotados (a diferencia de la normalización).\n",
    "\n",
    "\n",
    "- Utilizaremos la normalización cuando no conozcamos la distribución de nuestros datos o sepamos que no es gaussiana. \n",
    "\n",
    "\n",
    "- Usaremos la estandarización si nuestros datos tienen una distribución gaussiana.\n",
    "\n",
    "\n",
    "\n",
    "- A veces, cuando la normalización no funciona, la estandarización puede funcionarnos bien.\n"
   ]
  },
  {
   "cell_type": "code",
   "execution_count": null,
   "id": "506c6821",
   "metadata": {},
   "outputs": [],
   "source": []
  }
 ],
 "metadata": {
  "kernelspec": {
   "display_name": "Python 3 (ipykernel)",
   "language": "python",
   "name": "python3"
  },
  "language_info": {
   "codemirror_mode": {
    "name": "ipython",
    "version": 3
   },
   "file_extension": ".py",
   "mimetype": "text/x-python",
   "name": "python",
   "nbconvert_exporter": "python",
   "pygments_lexer": "ipython3",
   "version": "3.10.4"
  },
  "toc": {
   "base_numbering": 1,
   "nav_menu": {},
   "number_sections": true,
   "sideBar": true,
   "skip_h1_title": false,
   "title_cell": "Table of Contents",
   "title_sidebar": "Contents",
   "toc_cell": true,
   "toc_position": {},
   "toc_section_display": true,
   "toc_window_display": false
  }
 },
 "nbformat": 4,
 "nbformat_minor": 5
}
