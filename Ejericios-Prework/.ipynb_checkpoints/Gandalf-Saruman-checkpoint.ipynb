{
 "cells": [
  {
   "cell_type": "markdown",
   "id": "1143f059",
   "metadata": {},
   "source": [
    "## Duel Of Sorcerers extended"
   ]
  },
  {
   "cell_type": "markdown",
   "id": "14f5dd2d",
   "metadata": {},
   "source": [
    "You are witnessing an epic battle between two powerful sorcerers: Gandalf and Saruman. Each sorcerer has 10 spells of different powers in their mind and they are going to throw them one after the other. The winner of the duel will be the one who wins more of those clashes between spells. Spells are represented as a list of 10 integers whose value equals the power of the spell.\n",
    "\n",
    "```python\n",
    "gandalf = [10, 11, 13, 30, 22, 11, 10, 33, 22, 22]\n",
    "saruman = [23, 66, 12, 43, 12, 10, 44, 23, 12, 17]\n",
    "```\n",
    "For example:\n",
    "\n",
    "The first clash is won by Saruman: 10 against 23\n",
    "The second clash is won by Saruman: 11 against 66\n",
    "etc.\n",
    "You will create two variables, one for each sorcerer, where the total number of clashes won by each sorcerer will be stored. Depending on which variable is greater at the end of the duel, you will show one of the following three results on the screen:\n",
    "\n",
    "Gandalf wins\n",
    "Saruman wins\n",
    "Tie\n",
    "\n",
    "\n",
    "    "
   ]
  },
  {
   "cell_type": "code",
   "execution_count": 2,
   "id": "f5b7bd53",
   "metadata": {},
   "outputs": [],
   "source": [
    "gandalf = [10, 11, 13, 30, 22, 11, 10, 33, 22, 22]\n",
    "saruman = [23, 66, 12, 43, 12, 10, 44, 23, 12, 17]"
   ]
  },
  {
   "cell_type": "code",
   "execution_count": 4,
   "id": "7ab77299",
   "metadata": {},
   "outputs": [
    {
     "name": "stdout",
     "output_type": "stream",
     "text": [
      "El poder de gandalf es 10 y el de saruman es 23\n",
      "El poder de gandalf es 11 y el de saruman es 66\n",
      "El poder de gandalf es 13 y el de saruman es 12\n",
      "El poder de gandalf es 30 y el de saruman es 43\n",
      "El poder de gandalf es 22 y el de saruman es 12\n",
      "El poder de gandalf es 11 y el de saruman es 10\n",
      "El poder de gandalf es 10 y el de saruman es 44\n",
      "El poder de gandalf es 33 y el de saruman es 23\n",
      "El poder de gandalf es 22 y el de saruman es 12\n",
      "El poder de gandalf es 22 y el de saruman es 17\n"
     ]
    }
   ],
   "source": [
    "gandalf_wins = 0\n",
    "saruman_wins = 0\n",
    "tie = 0\n",
    "\n",
    "for g, s in zip(gandalf, saruman):\n",
    "    print(f\"El poder de gandalf es {g} y el de saruman es {s}\")\n",
    "    if g > s:\n",
    "        gandalf_wins += 1\n",
    "    elif g < s:\n",
    "        saruman_wins += 1\n",
    "    else:\n",
    "        tie += 1\n",
    "        "
   ]
  },
  {
   "cell_type": "code",
   "execution_count": 5,
   "id": "7b945742",
   "metadata": {},
   "outputs": [
    {
     "name": "stdout",
     "output_type": "stream",
     "text": [
      "Gandalf wins 🧙\n"
     ]
    }
   ],
   "source": [
    "if gandalf_wins > saruman_wins:\n",
    "    print(\"Gandalf wins 🧙\")\n",
    "else:\n",
    "    print(\"Saruman wins 🧙🏽\")"
   ]
  },
  {
   "cell_type": "markdown",
   "id": "0194797f",
   "metadata": {},
   "source": [
    "Instead of the spells being in a list, they now have a name and there is a dictionary that relates that name to a power. The information is provided below:\n",
    "\n",
    "```python\n",
    "power = {\n",
    "    'Fireball': 50, \n",
    "    'Lightning bolt': 40, \n",
    "    'Magic arrow': 10, \n",
    "    'Black Tentacles': 25, \n",
    "    'Contagion': 45\n",
    "}\n",
    "```\n",
    "\n",
    "The powers of the sorcerers that they will use in the clash have been provided in the list. The duel happens in the same way as above:\n",
    "\n",
    "```python\n",
    "gandalf = ['Fireball', 'Lightning bolt', 'Lightning bolt', 'Magic arrow', 'Fireball', 'Magic arrow', 'Lightning bolt', 'Fireball', 'Fireball', 'Fireball']\n",
    "\n",
    "saruman = ['Contagion', 'Contagion', 'Black Tentacles', 'Fireball', 'Black Tentacles', 'Lightning bolt', 'Magic arrow', 'Contagion', 'Magic arrow', 'Magic arrow']\n",
    "```\n",
    "\n",
    "A sorcerer wins if he succeeds in winning 3 spell clashes in a row (ie. CONSECUTIVE).\n",
    "\n",
    "It doesn't matter if a sorcerer wins three times but not consecutive, they MUST be consecutive to wins.\n",
    "\n",
    "Getting Started\n",
    "All your work should be done in the Your Solution section.\n",
    "More specifically, your task is to implement the functions battle, avg_spells and stdev_spells .\n",
    "The function declarations are already provided in the Your Solution section.\n",
    "\n",
    "\n",
    "\n",
    "**Task Instructions**\n",
    "Given the information above find out:\n",
    "\n",
    "- Which sorcerer won the battle - Gandalf or Saruman?\n",
    "- What is the average of the corresponding power values in the list of the winning sorcerer? Round off your result to one decimal place.\n",
    "- What is the standard deviation of the corresponding power values in the list of the winning sorcerer? Round off your result to one decimal place.\n",
    "- Create one function for each of the above questions with the following names."
   ]
  },
  {
   "cell_type": "code",
   "execution_count": 6,
   "id": "7c2da059",
   "metadata": {},
   "outputs": [],
   "source": [
    "power = {\n",
    "    'Fireball': 50, \n",
    "    'Lightning bolt': 40, \n",
    "    'Magic arrow': 10, \n",
    "    'Black Tentacles': 25, \n",
    "    'Contagion': 45\n",
    "}\n",
    "\n",
    "gandalf = ['Fireball', 'Lightning bolt', 'Lightning bolt', 'Magic arrow', 'Fireball', 'Magic arrow', 'Lightning bolt', 'Fireball', 'Fireball', 'Fireball']\n",
    "\n",
    "saruman = ['Contagion', 'Contagion', 'Black Tentacles', 'Fireball', 'Black Tentacles', 'Lightning bolt', 'Magic arrow', 'Contagion', 'Magic arrow', 'Magic arrow']"
   ]
  },
  {
   "cell_type": "code",
   "execution_count": 7,
   "id": "6c25316f",
   "metadata": {},
   "outputs": [],
   "source": [
    "def battle(dic_power, Sorcerer1, Sorcerer2):\n",
    "    gandalf_wins\n",
    "    for g, s in zip(Sorcerer1, Sorcerer2):\n",
    "        if dic_power[g] > dic_power[s]:\n",
    "            \n",
    "    return '<Name of the winner>'"
   ]
  },
  {
   "cell_type": "code",
   "execution_count": 8,
   "id": "98152a49",
   "metadata": {},
   "outputs": [
    {
     "data": {
      "text/plain": [
       "'<Name of the winner>'"
      ]
     },
     "execution_count": 8,
     "metadata": {},
     "output_type": "execute_result"
    }
   ],
   "source": [
    "battle(power, gandalf, saruman)"
   ]
  },
  {
   "cell_type": "code",
   "execution_count": null,
   "id": "d8441f27",
   "metadata": {},
   "outputs": [],
   "source": [
    "def avg_spells():\n",
    "    return <your solution>"
   ]
  },
  {
   "cell_type": "code",
   "execution_count": null,
   "id": "2c506592",
   "metadata": {},
   "outputs": [],
   "source": [
    "def stdev_spells():\n",
    "    return <your solution>"
   ]
  }
 ],
 "metadata": {
  "kernelspec": {
   "display_name": "ironhack",
   "language": "python",
   "name": "ironhack"
  },
  "language_info": {
   "codemirror_mode": {
    "name": "ipython",
    "version": 3
   },
   "file_extension": ".py",
   "mimetype": "text/x-python",
   "name": "python",
   "nbconvert_exporter": "python",
   "pygments_lexer": "ipython3",
   "version": "3.8.5"
  },
  "toc": {
   "base_numbering": 1,
   "nav_menu": {},
   "number_sections": true,
   "sideBar": true,
   "skip_h1_title": false,
   "title_cell": "Table of Contents",
   "title_sidebar": "Contents",
   "toc_cell": false,
   "toc_position": {},
   "toc_section_display": true,
   "toc_window_display": false
  }
 },
 "nbformat": 4,
 "nbformat_minor": 5
}
