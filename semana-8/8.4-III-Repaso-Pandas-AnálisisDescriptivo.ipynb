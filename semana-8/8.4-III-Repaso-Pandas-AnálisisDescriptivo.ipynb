{
 "cells": [
  {
   "cell_type": "code",
   "execution_count": 95,
   "id": "2b251115",
   "metadata": {},
   "outputs": [],
   "source": [
    "import pandas as pd\n",
    "import numpy as np\n",
    "import sidetable\n",
    "import datetime\n",
    "\n",
    "import seaborn as sns\n",
    "import matplotlib.pyplot as plt\n",
    "\n",
    "plt.rcParams[\"figure.figsize\"] = (10,8)\n"
   ]
  },
  {
   "cell_type": "markdown",
   "id": "d08f4e29",
   "metadata": {},
   "source": [
    "Cargamos los datos con el csv"
   ]
  },
  {
   "cell_type": "code",
   "execution_count": 35,
   "id": "2305af47",
   "metadata": {
    "scrolled": true
   },
   "outputs": [
    {
     "data": {
      "text/html": [
       "<div>\n",
       "<style scoped>\n",
       "    .dataframe tbody tr th:only-of-type {\n",
       "        vertical-align: middle;\n",
       "    }\n",
       "\n",
       "    .dataframe tbody tr th {\n",
       "        vertical-align: top;\n",
       "    }\n",
       "\n",
       "    .dataframe thead th {\n",
       "        text-align: right;\n",
       "    }\n",
       "</style>\n",
       "<table border=\"1\" class=\"dataframe\">\n",
       "  <thead>\n",
       "    <tr style=\"text-align: right;\">\n",
       "      <th></th>\n",
       "      <th>titles</th>\n",
       "      <th>years</th>\n",
       "      <th>genres</th>\n",
       "      <th>imdb</th>\n",
       "      <th>runtime</th>\n",
       "      <th>description</th>\n",
       "      <th>stars</th>\n",
       "      <th>number_of_votes</th>\n",
       "      <th>type</th>\n",
       "      <th>original_plataform</th>\n",
       "    </tr>\n",
       "  </thead>\n",
       "  <tbody>\n",
       "    <tr>\n",
       "      <th>0</th>\n",
       "      <td>Zumbo's Just Desserts</td>\n",
       "      <td>2016</td>\n",
       "      <td>Reality-TV</td>\n",
       "      <td>6.9</td>\n",
       "      <td>52</td>\n",
       "      <td>Amateur Australian chefs compete to impress pa...</td>\n",
       "      <td>Gigi Falanga, Rachel Khoo, Adriano Zumbo</td>\n",
       "      <td>1779</td>\n",
       "      <td>TV Show</td>\n",
       "      <td>Netflix</td>\n",
       "    </tr>\n",
       "    <tr>\n",
       "      <th>1</th>\n",
       "      <td>Zona Rosa</td>\n",
       "      <td>2019</td>\n",
       "      <td>Comedy</td>\n",
       "      <td>6.0</td>\n",
       "      <td>0</td>\n",
       "      <td>Add a Plot</td>\n",
       "      <td>Ray Contreras, Pablo Morán, Manu Nna, Ana Juli...</td>\n",
       "      <td>33</td>\n",
       "      <td>TV Show</td>\n",
       "      <td>Netflix</td>\n",
       "    </tr>\n",
       "  </tbody>\n",
       "</table>\n",
       "</div>"
      ],
      "text/plain": [
       "                  titles  years      genres  imdb  runtime  \\\n",
       "0  Zumbo's Just Desserts   2016  Reality-TV   6.9       52   \n",
       "1              Zona Rosa   2019      Comedy   6.0        0   \n",
       "\n",
       "                                         description  \\\n",
       "0  Amateur Australian chefs compete to impress pa...   \n",
       "1                                         Add a Plot   \n",
       "\n",
       "                                               stars  number_of_votes  \\\n",
       "0           Gigi Falanga, Rachel Khoo, Adriano Zumbo             1779   \n",
       "1  Ray Contreras, Pablo Morán, Manu Nna, Ana Juli...               33   \n",
       "\n",
       "      type original_plataform  \n",
       "0  TV Show            Netflix  \n",
       "1  TV Show            Netflix  "
      ]
     },
     "execution_count": 35,
     "metadata": {},
     "output_type": "execute_result"
    }
   ],
   "source": [
    "df = pd.read_csv(\"data/netflix_originals_limpio.csv\", index_col = 0)\n",
    "df.head(2)"
   ]
  },
  {
   "cell_type": "markdown",
   "id": "555929dd",
   "metadata": {},
   "source": [
    "Pero problemita... los datos que tenían formatos especiales no se han conservado."
   ]
  },
  {
   "cell_type": "code",
   "execution_count": 36,
   "id": "8e2ab8c8",
   "metadata": {},
   "outputs": [
    {
     "data": {
      "text/plain": [
       "titles                 object\n",
       "years                   int64\n",
       "genres                 object\n",
       "imdb                  float64\n",
       "runtime                 int64\n",
       "description            object\n",
       "stars                  object\n",
       "number_of_votes         int64\n",
       "type                   object\n",
       "original_plataform     object\n",
       "dtype: object"
      ]
     },
     "execution_count": 36,
     "metadata": {},
     "output_type": "execute_result"
    }
   ],
   "source": [
    "df.dtypes"
   ]
  },
  {
   "cell_type": "markdown",
   "id": "c96a6e25",
   "metadata": {},
   "source": [
    "Para evitar esto, podemos usar el pickle: "
   ]
  },
  {
   "cell_type": "code",
   "execution_count": 37,
   "id": "b953b33d",
   "metadata": {},
   "outputs": [
    {
     "data": {
      "text/html": [
       "<div>\n",
       "<style scoped>\n",
       "    .dataframe tbody tr th:only-of-type {\n",
       "        vertical-align: middle;\n",
       "    }\n",
       "\n",
       "    .dataframe tbody tr th {\n",
       "        vertical-align: top;\n",
       "    }\n",
       "\n",
       "    .dataframe thead th {\n",
       "        text-align: right;\n",
       "    }\n",
       "</style>\n",
       "<table border=\"1\" class=\"dataframe\">\n",
       "  <thead>\n",
       "    <tr style=\"text-align: right;\">\n",
       "      <th></th>\n",
       "      <th>titles</th>\n",
       "      <th>years</th>\n",
       "      <th>genres</th>\n",
       "      <th>imdb</th>\n",
       "      <th>runtime</th>\n",
       "      <th>description</th>\n",
       "      <th>stars</th>\n",
       "      <th>number_of_votes</th>\n",
       "      <th>type</th>\n",
       "      <th>original_plataform</th>\n",
       "    </tr>\n",
       "  </thead>\n",
       "  <tbody>\n",
       "    <tr>\n",
       "      <th>0</th>\n",
       "      <td>Zumbo's Just Desserts</td>\n",
       "      <td>2016</td>\n",
       "      <td>Reality-TV</td>\n",
       "      <td>6.9</td>\n",
       "      <td>52</td>\n",
       "      <td>Amateur Australian chefs compete to impress pa...</td>\n",
       "      <td>Gigi Falanga, Rachel Khoo, Adriano Zumbo</td>\n",
       "      <td>1779</td>\n",
       "      <td>TV Show</td>\n",
       "      <td>Netflix</td>\n",
       "    </tr>\n",
       "    <tr>\n",
       "      <th>1</th>\n",
       "      <td>Zona Rosa</td>\n",
       "      <td>2019</td>\n",
       "      <td>Comedy</td>\n",
       "      <td>6.0</td>\n",
       "      <td>0</td>\n",
       "      <td>Add a Plot</td>\n",
       "      <td>Ray Contreras, Pablo Morán, Manu Nna, Ana Juli...</td>\n",
       "      <td>33</td>\n",
       "      <td>TV Show</td>\n",
       "      <td>Netflix</td>\n",
       "    </tr>\n",
       "    <tr>\n",
       "      <th>2</th>\n",
       "      <td>Young Wallander</td>\n",
       "      <td>2020</td>\n",
       "      <td>Crime, Drama, Mystery</td>\n",
       "      <td>6.7</td>\n",
       "      <td>0</td>\n",
       "      <td>Follow recently graduated police officer Kurt ...</td>\n",
       "      <td>Adam Pålsson, Leanne Best, Richard Dillane, El...</td>\n",
       "      <td>5419</td>\n",
       "      <td>TV Show</td>\n",
       "      <td>Netflix</td>\n",
       "    </tr>\n",
       "    <tr>\n",
       "      <th>3</th>\n",
       "      <td>You vs. Wild</td>\n",
       "      <td>2019</td>\n",
       "      <td>Adventure, Reality-TV</td>\n",
       "      <td>6.7</td>\n",
       "      <td>20</td>\n",
       "      <td>In this interactive series, you'll make key de...</td>\n",
       "      <td>Bear Grylls</td>\n",
       "      <td>1977</td>\n",
       "      <td>TV Show</td>\n",
       "      <td>Netflix</td>\n",
       "    </tr>\n",
       "    <tr>\n",
       "      <th>4</th>\n",
       "      <td>You</td>\n",
       "      <td>2018</td>\n",
       "      <td>Crime, Drama, Romance</td>\n",
       "      <td>7.8</td>\n",
       "      <td>45</td>\n",
       "      <td>A dangerously charming, intensely obsessive yo...</td>\n",
       "      <td>Penn Badgley, Victoria Pedretti, Ambyr Childer...</td>\n",
       "      <td>134932</td>\n",
       "      <td>TV Show</td>\n",
       "      <td>Netflix</td>\n",
       "    </tr>\n",
       "  </tbody>\n",
       "</table>\n",
       "</div>"
      ],
      "text/plain": [
       "                  titles years                 genres  imdb  runtime  \\\n",
       "0  Zumbo's Just Desserts  2016             Reality-TV   6.9       52   \n",
       "1              Zona Rosa  2019                 Comedy   6.0        0   \n",
       "2        Young Wallander  2020  Crime, Drama, Mystery   6.7        0   \n",
       "3           You vs. Wild  2019  Adventure, Reality-TV   6.7       20   \n",
       "4                    You  2018  Crime, Drama, Romance   7.8       45   \n",
       "\n",
       "                                         description  \\\n",
       "0  Amateur Australian chefs compete to impress pa...   \n",
       "1                                         Add a Plot   \n",
       "2  Follow recently graduated police officer Kurt ...   \n",
       "3  In this interactive series, you'll make key de...   \n",
       "4  A dangerously charming, intensely obsessive yo...   \n",
       "\n",
       "                                               stars  number_of_votes  \\\n",
       "0           Gigi Falanga, Rachel Khoo, Adriano Zumbo             1779   \n",
       "1  Ray Contreras, Pablo Morán, Manu Nna, Ana Juli...               33   \n",
       "2  Adam Pålsson, Leanne Best, Richard Dillane, El...             5419   \n",
       "3                                        Bear Grylls             1977   \n",
       "4  Penn Badgley, Victoria Pedretti, Ambyr Childer...           134932   \n",
       "\n",
       "      type original_plataform  \n",
       "0  TV Show            Netflix  \n",
       "1  TV Show            Netflix  \n",
       "2  TV Show            Netflix  \n",
       "3  TV Show            Netflix  \n",
       "4  TV Show            Netflix  "
      ]
     },
     "execution_count": 37,
     "metadata": {},
     "output_type": "execute_result"
    }
   ],
   "source": [
    "df2 = pd.read_pickle(\"data/netflix_originals_limpio.pkl\")\n",
    "df2.head()"
   ]
  },
  {
   "cell_type": "code",
   "execution_count": 38,
   "id": "1e0154f2",
   "metadata": {},
   "outputs": [
    {
     "data": {
      "text/plain": [
       "titles                  object\n",
       "years                 category\n",
       "genres                  object\n",
       "imdb                   float64\n",
       "runtime                  int64\n",
       "description             object\n",
       "stars                   object\n",
       "number_of_votes          Int64\n",
       "type                    object\n",
       "original_plataform      object\n",
       "dtype: object"
      ]
     },
     "execution_count": 38,
     "metadata": {},
     "output_type": "execute_result"
    }
   ],
   "source": [
    "df2.dtypes"
   ]
  },
  {
   "cell_type": "markdown",
   "id": "0bfbe2ac",
   "metadata": {},
   "source": [
    "`genres` Recordamos que tenia muchas etiquetas. Necesitamos hacer que esas etiquetas sean mas amigables."
   ]
  },
  {
   "cell_type": "code",
   "execution_count": 52,
   "id": "8802dbb9",
   "metadata": {},
   "outputs": [
    {
     "data": {
      "text/plain": [
       "['Reality-TV',\n",
       " 'Comedy',\n",
       " 'Crime, Drama, Mystery',\n",
       " 'Adventure, Reality-TV',\n",
       " 'Crime, Drama, Romance']"
      ]
     },
     "execution_count": 52,
     "metadata": {},
     "output_type": "execute_result"
    }
   ],
   "source": [
    "generos = list(df2['genres'].unique())\n",
    "generos[:5]"
   ]
  },
  {
   "cell_type": "markdown",
   "id": "4880c057",
   "metadata": {},
   "source": [
    "Necesitamos obtener los géneros únicos."
   ]
  },
  {
   "cell_type": "code",
   "execution_count": 43,
   "id": "18ed56a2",
   "metadata": {},
   "outputs": [],
   "source": [
    "nuevos_generos = []\n",
    "for i in generos:\n",
    "    nuevos_generos.append(i.split(\",\"))\n",
    "\n",
    "nuevos_generos =  [elemento for sublista in nuevos_generos for elemento in sublista]"
   ]
  },
  {
   "cell_type": "code",
   "execution_count": 59,
   "id": "aa36ebe2",
   "metadata": {},
   "outputs": [
    {
     "name": "stdout",
     "output_type": "stream",
     "text": [
      "introduce genero comedy\n"
     ]
    }
   ],
   "source": [
    "genero = input(\"introduce genero \").capitalize() "
   ]
  },
  {
   "cell_type": "code",
   "execution_count": 62,
   "id": "b0acb9fa",
   "metadata": {},
   "outputs": [
    {
     "data": {
      "text/html": [
       "<div>\n",
       "<style scoped>\n",
       "    .dataframe tbody tr th:only-of-type {\n",
       "        vertical-align: middle;\n",
       "    }\n",
       "\n",
       "    .dataframe tbody tr th {\n",
       "        vertical-align: top;\n",
       "    }\n",
       "\n",
       "    .dataframe thead th {\n",
       "        text-align: right;\n",
       "    }\n",
       "</style>\n",
       "<table border=\"1\" class=\"dataframe\">\n",
       "  <thead>\n",
       "    <tr style=\"text-align: right;\">\n",
       "      <th></th>\n",
       "      <th>titles</th>\n",
       "      <th>years</th>\n",
       "      <th>genres</th>\n",
       "      <th>imdb</th>\n",
       "      <th>runtime</th>\n",
       "      <th>description</th>\n",
       "      <th>stars</th>\n",
       "      <th>number_of_votes</th>\n",
       "      <th>type</th>\n",
       "      <th>original_plataform</th>\n",
       "    </tr>\n",
       "  </thead>\n",
       "  <tbody>\n",
       "    <tr>\n",
       "      <th>1</th>\n",
       "      <td>Zona Rosa</td>\n",
       "      <td>2019</td>\n",
       "      <td>Comedy</td>\n",
       "      <td>6.0</td>\n",
       "      <td>0</td>\n",
       "      <td>Add a Plot</td>\n",
       "      <td>Ray Contreras, Pablo Morán, Manu Nna, Ana Juli...</td>\n",
       "      <td>33</td>\n",
       "      <td>TV Show</td>\n",
       "      <td>Netflix</td>\n",
       "    </tr>\n",
       "    <tr>\n",
       "      <th>9</th>\n",
       "      <td>World of Winx</td>\n",
       "      <td>2016</td>\n",
       "      <td>Animation, Action, Comedy</td>\n",
       "      <td>6.8</td>\n",
       "      <td>30</td>\n",
       "      <td>The Winx travel all over the world searching f...</td>\n",
       "      <td>Rebecca Soler, Alysha Deslorieux, Haven Pascha...</td>\n",
       "      <td>556</td>\n",
       "      <td>TV Show</td>\n",
       "      <td>Netflix</td>\n",
       "    </tr>\n",
       "  </tbody>\n",
       "</table>\n",
       "</div>"
      ],
      "text/plain": [
       "          titles  years                     genres  imdb  runtime  \\\n",
       "1      Zona Rosa   2019                     Comedy   6.0        0   \n",
       "9  World of Winx   2016  Animation, Action, Comedy   6.8       30   \n",
       "\n",
       "                                         description  \\\n",
       "1                                         Add a Plot   \n",
       "9  The Winx travel all over the world searching f...   \n",
       "\n",
       "                                               stars  number_of_votes  \\\n",
       "1  Ray Contreras, Pablo Morán, Manu Nna, Ana Juli...               33   \n",
       "9  Rebecca Soler, Alysha Deslorieux, Haven Pascha...              556   \n",
       "\n",
       "      type original_plataform  \n",
       "1  TV Show            Netflix  \n",
       "9  TV Show            Netflix  "
      ]
     },
     "execution_count": 62,
     "metadata": {},
     "output_type": "execute_result"
    }
   ],
   "source": [
    "#generamos un filtro para localizar el genero sobre el que queremos flitrar \n",
    "filtro = df[df[\"genres\"].str.contains(genero)]\n",
    "filtro.head(2)\n"
   ]
  },
  {
   "cell_type": "code",
   "execution_count": 69,
   "id": "8b72e327",
   "metadata": {},
   "outputs": [
    {
     "data": {
      "text/plain": [
       "Comedy                     317\n",
       "Comedy, Drama               41\n",
       "Documentary, Comedy         31\n",
       "Comedy, Romance             24\n",
       "Comedy, Drama, Romance      24\n",
       "                          ... \n",
       "Comedy, Drama, Western       1\n",
       "Comedy, Drama, Thriller      1\n",
       "Biography, Comedy            1\n",
       "Comedy, Drama, Horror        1\n",
       "Comedy, Thriller             1\n",
       "Name: genres, Length: 64, dtype: int64"
      ]
     },
     "execution_count": 69,
     "metadata": {},
     "output_type": "execute_result"
    }
   ],
   "source": [
    "filtro.genres.value_counts()"
   ]
  },
  {
   "cell_type": "code",
   "execution_count": 77,
   "id": "350f5936",
   "metadata": {},
   "outputs": [
    {
     "data": {
      "text/html": [
       "<div>\n",
       "<style scoped>\n",
       "    .dataframe tbody tr th:only-of-type {\n",
       "        vertical-align: middle;\n",
       "    }\n",
       "\n",
       "    .dataframe tbody tr th {\n",
       "        vertical-align: top;\n",
       "    }\n",
       "\n",
       "    .dataframe thead th {\n",
       "        text-align: right;\n",
       "    }\n",
       "</style>\n",
       "<table border=\"1\" class=\"dataframe\">\n",
       "  <thead>\n",
       "    <tr style=\"text-align: right;\">\n",
       "      <th></th>\n",
       "      <th>titles</th>\n",
       "      <th>years</th>\n",
       "      <th>genres</th>\n",
       "      <th>imdb</th>\n",
       "      <th>runtime</th>\n",
       "      <th>description</th>\n",
       "      <th>stars</th>\n",
       "      <th>number_of_votes</th>\n",
       "      <th>type</th>\n",
       "      <th>original_plataform</th>\n",
       "    </tr>\n",
       "  </thead>\n",
       "  <tbody>\n",
       "    <tr>\n",
       "      <th>1</th>\n",
       "      <td>Zona Rosa</td>\n",
       "      <td>2019</td>\n",
       "      <td>Comedy</td>\n",
       "      <td>6.0</td>\n",
       "      <td>0</td>\n",
       "      <td>Add a Plot</td>\n",
       "      <td>Ray Contreras, Pablo Morán, Manu Nna, Ana Juli...</td>\n",
       "      <td>33</td>\n",
       "      <td>TV Show</td>\n",
       "      <td>Netflix</td>\n",
       "    </tr>\n",
       "    <tr>\n",
       "      <th>17</th>\n",
       "      <td>Wet Hot American Summer: Ten Years Later</td>\n",
       "      <td>2017</td>\n",
       "      <td>Comedy</td>\n",
       "      <td>6.9</td>\n",
       "      <td>30</td>\n",
       "      <td>The campers and counselors of Camp Firewood me...</td>\n",
       "      <td>Nina Hellman, Marguerite Moreau, Zak Orth, Mic...</td>\n",
       "      <td>7049</td>\n",
       "      <td>TV Show</td>\n",
       "      <td>Netflix</td>\n",
       "    </tr>\n",
       "  </tbody>\n",
       "</table>\n",
       "</div>"
      ],
      "text/plain": [
       "                                      titles  years  genres  imdb  runtime  \\\n",
       "1                                  Zona Rosa   2019  Comedy   6.0        0   \n",
       "17  Wet Hot American Summer: Ten Years Later   2017  Comedy   6.9       30   \n",
       "\n",
       "                                          description  \\\n",
       "1                                          Add a Plot   \n",
       "17  The campers and counselors of Camp Firewood me...   \n",
       "\n",
       "                                                stars  number_of_votes  \\\n",
       "1   Ray Contreras, Pablo Morán, Manu Nna, Ana Juli...               33   \n",
       "17  Nina Hellman, Marguerite Moreau, Zak Orth, Mic...             7049   \n",
       "\n",
       "       type original_plataform  \n",
       "1   TV Show            Netflix  \n",
       "17  TV Show            Netflix  "
      ]
     },
     "execution_count": 77,
     "metadata": {},
     "output_type": "execute_result"
    }
   ],
   "source": [
    "filtro2  = filtro[filtro['genres'].map(filtro['genres'].value_counts()) > 10]\n",
    "filtro2.head(2)"
   ]
  },
  {
   "cell_type": "markdown",
   "id": "4a184a88",
   "metadata": {},
   "source": [
    "Ahora la cantidad de datos es mucho mas amigable para hacer una visualizacion "
   ]
  },
  {
   "cell_type": "code",
   "execution_count": 78,
   "id": "5694d975",
   "metadata": {},
   "outputs": [
    {
     "data": {
      "text/plain": [
       "Comedy                          317\n",
       "Comedy, Drama                    41\n",
       "Documentary, Comedy              31\n",
       "Comedy, Drama, Romance           24\n",
       "Comedy, Romance                  24\n",
       "Animation, Adventure, Comedy     21\n",
       "Action, Adventure, Comedy        14\n",
       "Comedy, Crime, Drama             11\n",
       "Name: genres, dtype: int64"
      ]
     },
     "execution_count": 78,
     "metadata": {},
     "output_type": "execute_result"
    }
   ],
   "source": [
    "filtro2[\"genres\"].value_counts()"
   ]
  },
  {
   "cell_type": "markdown",
   "id": "54b2745e",
   "metadata": {},
   "source": [
    "Agrupamos los valores por genero para analiozar las diferencias en su duracion."
   ]
  },
  {
   "cell_type": "code",
   "execution_count": 82,
   "id": "85f85335",
   "metadata": {},
   "outputs": [],
   "source": [
    "df_graf = filtro2.groupby(\"genres\")[\"runtime\"].agg(\"mean\").reset_index()\n",
    "df_graf"
   ]
  },
  {
   "cell_type": "code",
   "execution_count": 98,
   "id": "fa4f7e71",
   "metadata": {},
   "outputs": [
    {
     "data": {
      "image/png": "[encoded data removed]",
      "text/plain": [
       "<Figure size 720x576 with 1 Axes>"
      ]
     },
     "metadata": {
      "needs_background": "light"
     },
     "output_type": "display_data"
    }
   ],
   "source": [
    "\n",
    "fig = sns.barplot(x = \"genres\", y = \"runtime\", data =df_graf)\n",
    "fig.tick_params(labelrotation=45)\n",
    "plt.show();"
   ]
  },
  {
   "cell_type": "code",
   "execution_count": null,
   "id": "0c637e9c",
   "metadata": {},
   "outputs": [],
   "source": []
  },
  {
   "cell_type": "code",
   "execution_count": null,
   "id": "fa38d06e",
   "metadata": {},
   "outputs": [],
   "source": []
  }
 ],
 "metadata": {
  "kernelspec": {
   "display_name": "ironhack",
   "language": "python",
   "name": "ironhack"
  },
  "language_info": {
   "codemirror_mode": {
    "name": "ipython",
    "version": 3
   },
   "file_extension": ".py",
   "mimetype": "text/x-python",
   "name": "python",
   "nbconvert_exporter": "python",
   "pygments_lexer": "ipython3",
   "version": "3.8.5"
  },
  "toc": {
   "base_numbering": 1,
   "nav_menu": {},
   "number_sections": true,
   "sideBar": true,
   "skip_h1_title": false,
   "title_cell": "Table of Contents",
   "title_sidebar": "Contents",
   "toc_cell": false,
   "toc_position": {},
   "toc_section_display": true,
   "toc_window_display": false
  }
 },
 "nbformat": 4,
 "nbformat_minor": 5
}
