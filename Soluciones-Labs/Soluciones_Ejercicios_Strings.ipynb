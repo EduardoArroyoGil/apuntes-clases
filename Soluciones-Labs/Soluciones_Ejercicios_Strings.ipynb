{
 "cells": [
  {
   "cell_type": "markdown",
   "id": "ae196a17",
   "metadata": {},
   "source": [
    "1- Escribe un programa para dividir un string dada por los guiones y muestra cada substring."
   ]
  },
  {
   "cell_type": "code",
   "execution_count": 22,
   "id": "b03426e2",
   "metadata": {},
   "outputs": [
    {
     "name": "stdout",
     "output_type": "stream",
     "text": [
      "El string original es: Emma-is-a-data-scientist\n"
     ]
    }
   ],
   "source": [
    "str = \"Emma-is-a-data-scientist\"\n",
    "print(\"El string original es:\", str)"
   ]
  },
  {
   "cell_type": "code",
   "execution_count": 24,
   "id": "b30d768c",
   "metadata": {},
   "outputs": [
    {
     "name": "stdout",
     "output_type": "stream",
     "text": [
      "Cada substrings es: \n",
      "Emma\n",
      "is\n",
      "a\n",
      "data\n",
      "scientist\n"
     ]
    }
   ],
   "source": [
    "# hacemo un split del string\n",
    "sub_strings = str.split(\"-\")\n",
    "\n",
    "print(\"Cada substrings es: \")\n",
    "for sub in sub_strings:\n",
    "    print(sub)"
   ]
  },
  {
   "cell_type": "markdown",
   "id": "e8b92f5f",
   "metadata": {},
   "source": [
    "2- Ordena los caracteres de los strings de manera que las letras minúsculas vayan primero"
   ]
  },
  {
   "cell_type": "code",
   "execution_count": 1,
   "id": "a7859663",
   "metadata": {},
   "outputs": [],
   "source": [
    "str1 = \"PYnAtivE\""
   ]
  },
  {
   "cell_type": "code",
   "execution_count": 2,
   "id": "e00c5fde",
   "metadata": {},
   "outputs": [],
   "source": [
    "# creamos dos listas vacías una para almacenar las letras en minúscula \n",
    "# y otra para las mayúsculas\n",
    "lower = []\n",
    "upper = []"
   ]
  },
  {
   "cell_type": "code",
   "execution_count": 3,
   "id": "638140d1",
   "metadata": {},
   "outputs": [
    {
     "name": "stdout",
     "output_type": "stream",
     "text": [
      "Result: ntivPYAE\n"
     ]
    }
   ],
   "source": [
    "for char in str1: # recorremos el string\n",
    "    if char.islower():\n",
    "        # añadimos cada letra minúscula  a la lista de minúsculas\n",
    "        lower.append(char)\n",
    "    else:\n",
    "        # añadimos cada letra mayúscula a la lista de mayúsculas\n",
    "        upper.append(char)\n",
    "        \n",
    "# hacemos un join de las dos listas para formar un string\n",
    "sorted_str = ''.join(lower + upper)\n",
    "print('Result:', sorted_str)"
   ]
  },
  {
   "cell_type": "markdown",
   "id": "b0cf2275",
   "metadata": {},
   "source": [
    "3- Cuenta todas las letras, dígitos y símbolos especiales de una cadena dada"
   ]
  },
  {
   "cell_type": "code",
   "execution_count": 4,
   "id": "5dbdd6dc",
   "metadata": {},
   "outputs": [],
   "source": [
    "str2 = \"P@#yn26at^&i5ve\""
   ]
  },
  {
   "cell_type": "code",
   "execution_count": 5,
   "id": "7f2eed6f",
   "metadata": {},
   "outputs": [],
   "source": [
    "# inicializamos los contadores \n",
    "car_count = 0\n",
    "num_count = 0\n",
    "sim_count = 0\n",
    "\n",
    "for char in str2: # iteramos por nuesto string\n",
    "\n",
    "    # seteamos la condición de si es caracter en caso de que se cumpla añadimos uno a nuestro contador de caracteres\n",
    "    if char.isalpha():\n",
    "        car_count += 1\n",
    "\n",
    "    # seteamos la condición de si es número en caso de que se cumpla añadimos uno a nuestro contador de números\n",
    "    elif char.isdigit():\n",
    "        num_count += 1\n",
    "    # por último, si no es caracter ni número le añadimos uno al contador de símbolos\n",
    "    else:\n",
    "        sim_count += 1\n"
   ]
  },
  {
   "cell_type": "code",
   "execution_count": 9,
   "id": "131d49b4",
   "metadata": {},
   "outputs": [
    {
     "name": "stdout",
     "output_type": "stream",
     "text": [
      "caracteres = 8 numeros = 3 simbolos = 4\n"
     ]
    }
   ],
   "source": [
    "print(\"caracteres =\", car_count, \"numeros =\", num_count, \"simbolos =\", sim_count)\n"
   ]
  },
  {
   "cell_type": "code",
   "execution_count": 7,
   "id": "833ff22f",
   "metadata": {},
   "outputs": [
    {
     "data": {
      "text/plain": [
       "3"
      ]
     },
     "execution_count": 7,
     "metadata": {},
     "output_type": "execute_result"
    }
   ],
   "source": [
    "num_count"
   ]
  },
  {
   "cell_type": "code",
   "execution_count": 8,
   "id": "0b812a90",
   "metadata": {},
   "outputs": [
    {
     "data": {
      "text/plain": [
       "4"
      ]
     },
     "execution_count": 8,
     "metadata": {},
     "output_type": "execute_result"
    }
   ],
   "source": [
    "sim_count"
   ]
  },
  {
   "cell_type": "markdown",
   "id": "277be9a2",
   "metadata": {},
   "source": [
    "4-  Escribe un programa para comprobar si dos cadenas están equilibradas. Por ejemplo, las cadenas s1 y s2 están equilibradas si todos los caracteres de s1 están presentes en s2. La posición del carácter no importa."
   ]
  },
  {
   "cell_type": "code",
   "execution_count": 10,
   "id": "d8405de0",
   "metadata": {},
   "outputs": [],
   "source": [
    "s1 = \"Yn\"\n",
    "s2 = \"PYnative\""
   ]
  },
  {
   "cell_type": "code",
   "execution_count": 11,
   "id": "8ffe3bcc",
   "metadata": {},
   "outputs": [],
   "source": [
    "flag = True # iniciamos una variable en True, para que en caso de que se no cumpla la condición de que el string s1 sea igual al string s2, se cambie el valor de la variable a False\n",
    "for char in s1: # iteramos por nuestro string s1\n",
    "    if char in s2: # si en la iteración encontramos un caracter que se encuentre en el string s2\n",
    "        continue # continuamos con la iteración\n",
    "    else: # en caso de que no se cumpla la condición\n",
    "        flag = False # dejamos la variable en False"
   ]
  },
  {
   "cell_type": "code",
   "execution_count": 12,
   "id": "eef0da4b",
   "metadata": {},
   "outputs": [
    {
     "name": "stdout",
     "output_type": "stream",
     "text": [
      "True\n"
     ]
    }
   ],
   "source": [
    "print(flag)"
   ]
  },
  {
   "cell_type": "markdown",
   "id": "6f55da29",
   "metadata": {},
   "source": [
    "5- Escribe un programa para encontrar todas las ocurrencias de \"USA\" en una string dado ignorando si es mayúscula o minúscula"
   ]
  },
  {
   "cell_type": "code",
   "execution_count": null,
   "id": "7efb105b",
   "metadata": {},
   "outputs": [],
   "source": [
    "str1 = \"Welcome to USA. usa awesome, isn't it?\" #definimos un string\n",
    "sub_string = \"USA\" # definimos un string que será el substring\n",
    "\n",
    "# convertimos nuestro string todo a minúsculas\n",
    "temp_str = str1.lower()\n",
    "\n",
    "# usamos el método count para contar el número de veces que aparece el substring en nuestro string\n",
    "count = temp_str.count(sub_string.lower()) # aquí también convertimos el substring a minúsculas\n",
    "print(\"USA  aparece:\", count)"
   ]
  },
  {
   "cell_type": "markdown",
   "id": "7a660975",
   "metadata": {},
   "source": [
    "6- Dada una cadena s1, escribe un programa que devuelva la suma y la media de los dígitos que aparecen en la cadena, ignorando el resto de caracteres."
   ]
  },
  {
   "cell_type": "code",
   "execution_count": 14,
   "id": "50e24e15",
   "metadata": {},
   "outputs": [],
   "source": [
    "\n",
    "input_str = \"PYnative29@#8496\" # definimos un string\n",
    "total = 0 # inicializamos un contador para sumar los valores de los números que nos encontramos en el string\n",
    "cnt = 0 # inicializamos un contador para contar el número de veces que aparecen números en el string"
   ]
  },
  {
   "cell_type": "code",
   "execution_count": 15,
   "id": "ea93cda7",
   "metadata": {},
   "outputs": [
    {
     "name": "stdout",
     "output_type": "stream",
     "text": [
      "La suma es: 38 La media es:  6.333333333333333\n"
     ]
    }
   ],
   "source": [
    "for char in input_str: # iteramos por nuestro string\n",
    "    if char.isdigit(): # si el caracter es un número\n",
    "        total += int(char) # sumamos el número al contador total\n",
    "        cnt += 1 # aumentamos el contador de números\n",
    "\n",
    "# calculamos la media\n",
    "avg = total / cnt\n",
    "print(\"La suma es:\", total, \"La media es: \", avg)"
   ]
  },
  {
   "cell_type": "markdown",
   "id": "f9a2736a",
   "metadata": {},
   "source": [
    "7- Escribe un programa para contar las ocurrencias de todos los caracteres dentro de un string"
   ]
  },
  {
   "cell_type": "code",
   "execution_count": 16,
   "id": "1995a0f4",
   "metadata": {},
   "outputs": [],
   "source": [
    "str1 = \"Apple\" # definimos un string"
   ]
  },
  {
   "cell_type": "code",
   "execution_count": 17,
   "id": "991e6360",
   "metadata": {},
   "outputs": [],
   "source": [
    "\n",
    "# creamos un diccionario vacío\n",
    "char_dict = dict() # recordad, esto es lo mismo que char_dict = {}\n",
    "\n",
    "# iteramos por nuestro string\n",
    "for char in str1:\n",
    "    # contamos el número de veces que aparece el caracter en nuestro string\n",
    "    count = str1.count(char) \n",
    "    # añaadimos el caracter y el número de veces que aparece al diccionario\n",
    "    char_dict[char] = count"
   ]
  },
  {
   "cell_type": "code",
   "execution_count": 19,
   "id": "d4272def",
   "metadata": {},
   "outputs": [
    {
     "data": {
      "text/plain": [
       "{'A': 1, 'p': 2, 'l': 1, 'e': 1}"
      ]
     },
     "execution_count": 19,
     "metadata": {},
     "output_type": "execute_result"
    }
   ],
   "source": [
    "char_dict"
   ]
  },
  {
   "cell_type": "markdown",
   "id": "50d453a1",
   "metadata": {},
   "source": [
    "8- Elimina los strings vacíos de una lista de strings"
   ]
  },
  {
   "cell_type": "code",
   "execution_count": 25,
   "id": "2a9cdf18",
   "metadata": {},
   "outputs": [],
   "source": [
    "str_list = [\"Emma\", \"Jon\", \"\", \"Kelly\", None, \"Eric\", \"\"]  # definimos una lista de strings"
   ]
  },
  {
   "cell_type": "code",
   "execution_count": 26,
   "id": "f354cce8",
   "metadata": {},
   "outputs": [],
   "source": [
    "res_list = [] # creamos una lista vacía para almacenar los strings que no estén vacíos\n",
    "\n",
    "# iteramos por nuestra lista de strings\n",
    "for s in str_list: \n",
    "    # si el string no está vacío lo añadimos a nuestra lista de strings\n",
    "    if s:\n",
    "        res_list.append(s)"
   ]
  },
  {
   "cell_type": "code",
   "execution_count": 27,
   "id": "ce448a45",
   "metadata": {},
   "outputs": [
    {
     "data": {
      "text/plain": [
       "['Emma', 'Jon', 'Kelly', 'Eric']"
      ]
     },
     "execution_count": 27,
     "metadata": {},
     "output_type": "execute_result"
    }
   ],
   "source": [
    "res_list"
   ]
  },
  {
   "cell_type": "markdown",
   "id": "5a159871",
   "metadata": {},
   "source": [
    "9- Elimina todos los caracteres de una string excepto los enteros"
   ]
  },
  {
   "cell_type": "code",
   "execution_count": 38,
   "id": "73f9587e",
   "metadata": {},
   "outputs": [],
   "source": [
    "str9 = 'I am 25 years and 10 months old' # definimos un string"
   ]
  },
  {
   "cell_type": "code",
   "execution_count": 30,
   "id": "e1df77ce",
   "metadata": {},
   "outputs": [],
   "source": [
    "res = [] # creamos una lista vacía para almacenar los strings que sea un número\n",
    "\n",
    "#iteramos por nuestro string\n",
    "for i in str9:\n",
    "    # si el caracter es un número lo añadimos a nuestra lista\n",
    "    if i.isdigit():\n",
    "        res.append(i)\n"
   ]
  },
  {
   "cell_type": "code",
   "execution_count": 35,
   "id": "759705cf",
   "metadata": {},
   "outputs": [
    {
     "data": {
      "text/plain": [
       "2510"
      ]
     },
     "execution_count": 35,
     "metadata": {},
     "output_type": "execute_result"
    }
   ],
   "source": [
    "res # res es una lista de strings\n",
    "\n",
    "# para convertirlos a un número\n",
    "res_int = int(''.join(res)) # convertimos la lista de strings a un string\n",
    "res_int"
   ]
  },
  {
   "cell_type": "code",
   "execution_count": 40,
   "id": "538b0f0a",
   "metadata": {},
   "outputs": [
    {
     "data": {
      "text/plain": [
       "2510"
      ]
     },
     "execution_count": 40,
     "metadata": {},
     "output_type": "execute_result"
    }
   ],
   "source": [
    "#También lo podemos hacer con una list comprehension\n",
    "res2 = int(\"\".join([item for item in str9 if item.isdigit()]))\n",
    "res2"
   ]
  },
  {
   "cell_type": "code",
   "execution_count": null,
   "id": "b9519ebb",
   "metadata": {},
   "outputs": [],
   "source": []
  }
 ],
 "metadata": {
  "interpreter": {
   "hash": "7c5ad4df39bf06a9eb4fb459b3b63eb25b4f3b680f8fa78ceb9dcffa768664c7"
  },
  "kernelspec": {
   "display_name": "ironhack",
   "language": "python",
   "name": "python3"
  },
  "language_info": {
   "codemirror_mode": {
    "name": "ipython",
    "version": 3
   },
   "file_extension": ".py",
   "mimetype": "text/x-python",
   "name": "python",
   "nbconvert_exporter": "python",
   "pygments_lexer": "ipython3",
   "version": "3.8.5"
  },
  "toc": {
   "base_numbering": 1,
   "nav_menu": {},
   "number_sections": true,
   "sideBar": true,
   "skip_h1_title": false,
   "title_cell": "Table of Contents",
   "title_sidebar": "Contents",
   "toc_cell": false,
   "toc_position": {},
   "toc_section_display": true,
   "toc_window_display": false
  },
  "varInspector": {
   "cols": {
    "lenName": 16,
    "lenType": 16,
    "lenVar": 40
   },
   "kernels_config": {
    "python": {
     "delete_cmd_postfix": "",
     "delete_cmd_prefix": "del ",
     "library": "var_list.py",
     "varRefreshCmd": "print(var_dic_list())"
    },
    "r": {
     "delete_cmd_postfix": ") ",
     "delete_cmd_prefix": "rm(",
     "library": "var_list.r",
     "varRefreshCmd": "cat(var_dic_list()) "
    }
   },
   "types_to_exclude": [
    "module",
    "function",
    "builtin_function_or_method",
    "instance",
    "_Feature"
   ],
   "window_display": false
  }
 },
 "nbformat": 4,
 "nbformat_minor": 5
}
