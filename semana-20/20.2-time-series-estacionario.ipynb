{
 "cells": [
  {
   "cell_type": "markdown",
   "metadata": {
    "toc": true
   },
   "source": [
    "<h1>Table of Contents<span class=\"tocSkip\"></span></h1>\n",
    "<div class=\"toc\"><ul class=\"toc-item\"><li><span><a href=\"#¿Qué-es-una-Serie-Temporal?\" data-toc-modified-id=\"¿Qué-es-una-Serie-Temporal?-1\"><span class=\"toc-item-num\">1&nbsp;&nbsp;</span>¿Qué es una Serie Temporal?</a></span></li><li><span><a href=\"#Exploración-de-los-datos\" data-toc-modified-id=\"Exploración-de-los-datos-2\"><span class=\"toc-item-num\">2&nbsp;&nbsp;</span>Exploración de los datos</a></span><ul class=\"toc-item\"><li><span><a href=\"#Conversión-de-la-columna-date-a-datetime\" data-toc-modified-id=\"Conversión-de-la-columna-date-a-datetime-2.1\"><span class=\"toc-item-num\">2.1&nbsp;&nbsp;</span>Conversión de la columna date a datetime</a></span></li><li><span><a href=\"#Chequeemos-los-nulos.\" data-toc-modified-id=\"Chequeemos-los-nulos.-2.2\"><span class=\"toc-item-num\">2.2&nbsp;&nbsp;</span>Chequeemos los nulos.</a></span></li></ul></li><li><span><a href=\"#Componentes-de-una-Serie-Temporal\" data-toc-modified-id=\"Componentes-de-una-Serie-Temporal-3\"><span class=\"toc-item-num\">3&nbsp;&nbsp;</span>Componentes de una Serie Temporal</a></span><ul class=\"toc-item\"><li><span><a href=\"#Estacionalidad\" data-toc-modified-id=\"Estacionalidad-3.1\"><span class=\"toc-item-num\">3.1&nbsp;&nbsp;</span>Estacionalidad</a></span></li><li><span><a href=\"#Estacionaridad\" data-toc-modified-id=\"Estacionaridad-3.2\"><span class=\"toc-item-num\">3.2&nbsp;&nbsp;</span>Estacionaridad</a></span></li><li><span><a href=\"#Comparativa-estacionalidad-vs-estacionaridad\" data-toc-modified-id=\"Comparativa-estacionalidad-vs-estacionaridad-3.3\"><span class=\"toc-item-num\">3.3&nbsp;&nbsp;</span>Comparativa estacionalidad vs estacionaridad</a></span></li></ul></li><li><span><a href=\"#Autocorrelación\" data-toc-modified-id=\"Autocorrelación-4\"><span class=\"toc-item-num\">4&nbsp;&nbsp;</span>Autocorrelación</a></span></li><li><span><a href=\"#Modelo-ARMA\" data-toc-modified-id=\"Modelo-ARMA-5\"><span class=\"toc-item-num\">5&nbsp;&nbsp;</span>Modelo ARMA</a></span></li></ul></div>"
   ]
  },
  {
   "cell_type": "code",
   "execution_count": 13,
   "metadata": {},
   "outputs": [],
   "source": [
    "import pandas as pd\n",
    "import numpy as np\n",
    "from tqdm import tqdm\n",
    "\n",
    "import matplotlib.pyplot as plt\n",
    "plt.rcParams['figure.figsize'] = [10, 5]\n",
    "\n",
    "\n",
    "## Para sacar los componentes de la serie temporal\n",
    "################################################################\n",
    "from statsmodels.tsa.seasonal import seasonal_decompose\n",
    "\n",
    "\n",
    "## Para calcular la estacionaridad de nuestras series temporales\n",
    "################################################################\n",
    "from statsmodels.tsa.stattools import adfuller\n",
    "\n",
    "## Para calcular la autocorrelación en la serie temporal\n",
    "################################################################\n",
    "from statsmodels.graphics.tsaplots import plot_acf\n",
    "from statsmodels.graphics.tsaplots import plot_pacf\n",
    "\n",
    "## Para ajustar los modelos predictivos\n",
    "################################################################\n",
    "from statsmodels.tsa.arima.model import ARIMA\n",
    "from itertools import product\n",
    "\n",
    "## Para las metricas del modelo\n",
    "################################################################\n",
    "from sklearn.metrics import mean_squared_error\n",
    "\n",
    "## Para ignorar los warnings\n",
    "################################################################\n",
    "import warnings\n",
    "warnings.filterwarnings(\"ignore\")\n"
   ]
  },
  {
   "cell_type": "markdown",
   "metadata": {},
   "source": [
    "# ¿Qué es una Serie Temporal?\n",
    "\n",
    "Una Serie Temporal, es una sucesión de datos medidos en determinados momentos y ordenados cronológicamente. Los datos pueden estar espaciados a intervalos iguales (como la temperatura en un observatorio meteorológico en días sucesivos al mediodía) o desiguales (como el peso de una persona en sucesivas mediciones en el consultorio médico, la farmacia, etc.).\n",
    "\n",
    "Cuando estamos trabajando con Series Temporales nos tenemos que hacer las siguientes preguntas: \n",
    "\n",
    "- ¿Es estacionario?\n",
    "\n",
    "- ¿Hay una estacionalidad?\n",
    "\n",
    "- ¿Los datos están autocorrelacionados?"
   ]
  },
  {
   "cell_type": "markdown",
   "metadata": {},
   "source": [
    "# Exploración de los datos"
   ]
  },
  {
   "cell_type": "code",
   "execution_count": 2,
   "metadata": {},
   "outputs": [
    {
     "data": {
      "text/html": [
       "<div>\n",
       "<style scoped>\n",
       "    .dataframe tbody tr th:only-of-type {\n",
       "        vertical-align: middle;\n",
       "    }\n",
       "\n",
       "    .dataframe tbody tr th {\n",
       "        vertical-align: top;\n",
       "    }\n",
       "\n",
       "    .dataframe thead th {\n",
       "        text-align: right;\n",
       "    }\n",
       "</style>\n",
       "<table border=\"1\" class=\"dataframe\">\n",
       "  <thead>\n",
       "    <tr style=\"text-align: right;\">\n",
       "      <th></th>\n",
       "      <th>date</th>\n",
       "      <th>IPG3113N</th>\n",
       "    </tr>\n",
       "  </thead>\n",
       "  <tbody>\n",
       "    <tr>\n",
       "      <th>0</th>\n",
       "      <td>1972-01-01</td>\n",
       "      <td>85.598809</td>\n",
       "    </tr>\n",
       "    <tr>\n",
       "      <th>1</th>\n",
       "      <td>1972-02-01</td>\n",
       "      <td>71.741404</td>\n",
       "    </tr>\n",
       "    <tr>\n",
       "      <th>2</th>\n",
       "      <td>1972-03-01</td>\n",
       "      <td>65.948809</td>\n",
       "    </tr>\n",
       "    <tr>\n",
       "      <th>3</th>\n",
       "      <td>1972-04-01</td>\n",
       "      <td>64.490724</td>\n",
       "    </tr>\n",
       "    <tr>\n",
       "      <th>4</th>\n",
       "      <td>1972-05-01</td>\n",
       "      <td>64.933842</td>\n",
       "    </tr>\n",
       "  </tbody>\n",
       "</table>\n",
       "</div>"
      ],
      "text/plain": [
       "         date   IPG3113N\n",
       "0  1972-01-01  85.598809\n",
       "1  1972-02-01  71.741404\n",
       "2  1972-03-01  65.948809\n",
       "3  1972-04-01  64.490724\n",
       "4  1972-05-01  64.933842"
      ]
     },
     "execution_count": 2,
     "metadata": {},
     "output_type": "execute_result"
    }
   ],
   "source": [
    "df = pd.read_csv(\"data/caramelos.csv\", index_col = 0)\n",
    "df.head()"
   ]
  },
  {
   "cell_type": "code",
   "execution_count": 3,
   "metadata": {},
   "outputs": [
    {
     "data": {
      "text/html": [
       "<div>\n",
       "<style scoped>\n",
       "    .dataframe tbody tr th:only-of-type {\n",
       "        vertical-align: middle;\n",
       "    }\n",
       "\n",
       "    .dataframe tbody tr th {\n",
       "        vertical-align: top;\n",
       "    }\n",
       "\n",
       "    .dataframe thead th {\n",
       "        text-align: right;\n",
       "    }\n",
       "</style>\n",
       "<table border=\"1\" class=\"dataframe\">\n",
       "  <thead>\n",
       "    <tr style=\"text-align: right;\">\n",
       "      <th></th>\n",
       "      <th>count</th>\n",
       "      <th>mean</th>\n",
       "      <th>std</th>\n",
       "      <th>min</th>\n",
       "      <th>25%</th>\n",
       "      <th>50%</th>\n",
       "      <th>75%</th>\n",
       "      <th>max</th>\n",
       "    </tr>\n",
       "  </thead>\n",
       "  <tbody>\n",
       "    <tr>\n",
       "      <th>IPG3113N</th>\n",
       "      <td>564.0</td>\n",
       "      <td>101.136666</td>\n",
       "      <td>18.131158</td>\n",
       "      <td>50.680157</td>\n",
       "      <td>88.344728</td>\n",
       "      <td>102.777853</td>\n",
       "      <td>114.928399</td>\n",
       "      <td>139.302096</td>\n",
       "    </tr>\n",
       "  </tbody>\n",
       "</table>\n",
       "</div>"
      ],
      "text/plain": [
       "          count        mean        std        min        25%         50%  \\\n",
       "IPG3113N  564.0  101.136666  18.131158  50.680157  88.344728  102.777853   \n",
       "\n",
       "                 75%         max  \n",
       "IPG3113N  114.928399  139.302096  "
      ]
     },
     "execution_count": 3,
     "metadata": {},
     "output_type": "execute_result"
    }
   ],
   "source": [
    "df.describe().T"
   ]
  },
  {
   "cell_type": "markdown",
   "metadata": {},
   "source": [
    "## Conversión de la columna date a datetime\n",
    "Para trabajar con Series Temporales debemos asegurarnos de que la columna de fecha esta en formato `datetime`, que este como índice y debe tener alguna frecuencia. Veamos como hacerlo: "
   ]
  },
  {
   "cell_type": "code",
   "execution_count": 4,
   "metadata": {},
   "outputs": [
    {
     "data": {
      "text/plain": [
       "date         object\n",
       "IPG3113N    float64\n",
       "dtype: object"
      ]
     },
     "execution_count": 4,
     "metadata": {},
     "output_type": "execute_result"
    }
   ],
   "source": [
    "df.dtypes"
   ]
  },
  {
   "cell_type": "code",
   "execution_count": 5,
   "metadata": {},
   "outputs": [
    {
     "data": {
      "text/html": [
       "<div>\n",
       "<style scoped>\n",
       "    .dataframe tbody tr th:only-of-type {\n",
       "        vertical-align: middle;\n",
       "    }\n",
       "\n",
       "    .dataframe tbody tr th {\n",
       "        vertical-align: top;\n",
       "    }\n",
       "\n",
       "    .dataframe thead th {\n",
       "        text-align: right;\n",
       "    }\n",
       "</style>\n",
       "<table border=\"1\" class=\"dataframe\">\n",
       "  <thead>\n",
       "    <tr style=\"text-align: right;\">\n",
       "      <th></th>\n",
       "      <th>date</th>\n",
       "      <th>IPG3113N</th>\n",
       "    </tr>\n",
       "    <tr>\n",
       "      <th>date</th>\n",
       "      <th></th>\n",
       "      <th></th>\n",
       "    </tr>\n",
       "  </thead>\n",
       "  <tbody>\n",
       "    <tr>\n",
       "      <th>1972-01-01</th>\n",
       "      <td>1972-01-01</td>\n",
       "      <td>85.598809</td>\n",
       "    </tr>\n",
       "    <tr>\n",
       "      <th>1972-02-01</th>\n",
       "      <td>1972-02-01</td>\n",
       "      <td>71.741404</td>\n",
       "    </tr>\n",
       "    <tr>\n",
       "      <th>1972-03-01</th>\n",
       "      <td>1972-03-01</td>\n",
       "      <td>65.948809</td>\n",
       "    </tr>\n",
       "    <tr>\n",
       "      <th>1972-04-01</th>\n",
       "      <td>1972-04-01</td>\n",
       "      <td>64.490724</td>\n",
       "    </tr>\n",
       "    <tr>\n",
       "      <th>1972-05-01</th>\n",
       "      <td>1972-05-01</td>\n",
       "      <td>64.933842</td>\n",
       "    </tr>\n",
       "  </tbody>\n",
       "</table>\n",
       "</div>"
      ],
      "text/plain": [
       "                  date   IPG3113N\n",
       "date                             \n",
       "1972-01-01  1972-01-01  85.598809\n",
       "1972-02-01  1972-02-01  71.741404\n",
       "1972-03-01  1972-03-01  65.948809\n",
       "1972-04-01  1972-04-01  64.490724\n",
       "1972-05-01  1972-05-01  64.933842"
      ]
     },
     "execution_count": 5,
     "metadata": {},
     "output_type": "execute_result"
    }
   ],
   "source": [
    "# colocamos la columna a datetime y la ponemos como índice\n",
    "df.index = pd.to_datetime(df[\"date\"])\n",
    "df.head()"
   ]
  },
  {
   "cell_type": "code",
   "execution_count": 6,
   "metadata": {},
   "outputs": [
    {
     "data": {
      "text/plain": [
       "DatetimeIndex(['1972-01-01', '1972-02-01', '1972-03-01', '1972-04-01',\n",
       "               '1972-05-01', '1972-06-01', '1972-07-01', '1972-08-01',\n",
       "               '1972-09-01', '1972-10-01',\n",
       "               ...\n",
       "               '2018-03-01', '2018-04-01', '2018-05-01', '2018-06-01',\n",
       "               '2018-07-01', '2018-08-01', '2018-09-01', '2018-10-01',\n",
       "               '2018-11-01', '2018-12-01'],\n",
       "              dtype='datetime64[ns]', name='date', length=564, freq=None)"
      ]
     },
     "execution_count": 6,
     "metadata": {},
     "output_type": "execute_result"
    }
   ],
   "source": [
    "# veamos como es nuestro índice\n",
    "df.index"
   ]
  },
  {
   "cell_type": "markdown",
   "metadata": {},
   "source": [
    "Si nos fijamos nuestra columna de momento no tiene frecuencia. Para cambiarlo usaremos el método `infer_freq` de pandas"
   ]
  },
  {
   "cell_type": "code",
   "execution_count": 7,
   "metadata": {},
   "outputs": [
    {
     "data": {
      "text/plain": [
       "DatetimeIndex(['1972-01-01', '1972-02-01', '1972-03-01', '1972-04-01',\n",
       "               '1972-05-01', '1972-06-01', '1972-07-01', '1972-08-01',\n",
       "               '1972-09-01', '1972-10-01',\n",
       "               ...\n",
       "               '2018-03-01', '2018-04-01', '2018-05-01', '2018-06-01',\n",
       "               '2018-07-01', '2018-08-01', '2018-09-01', '2018-10-01',\n",
       "               '2018-11-01', '2018-12-01'],\n",
       "              dtype='datetime64[ns]', name='date', length=564, freq='MS')"
      ]
     },
     "execution_count": 7,
     "metadata": {},
     "output_type": "execute_result"
    }
   ],
   "source": [
    "df.index.freq = pd.infer_freq(df.index)\n",
    "df.index"
   ]
  },
  {
   "cell_type": "markdown",
   "metadata": {},
   "source": [
    "Si nos fijamos ahora Pandas automaticamente ha detectado la frecuencia, es de día. "
   ]
  },
  {
   "cell_type": "code",
   "execution_count": 8,
   "metadata": {},
   "outputs": [
    {
     "data": {
      "text/html": [
       "<div>\n",
       "<style scoped>\n",
       "    .dataframe tbody tr th:only-of-type {\n",
       "        vertical-align: middle;\n",
       "    }\n",
       "\n",
       "    .dataframe tbody tr th {\n",
       "        vertical-align: top;\n",
       "    }\n",
       "\n",
       "    .dataframe thead th {\n",
       "        text-align: right;\n",
       "    }\n",
       "</style>\n",
       "<table border=\"1\" class=\"dataframe\">\n",
       "  <thead>\n",
       "    <tr style=\"text-align: right;\">\n",
       "      <th></th>\n",
       "      <th>date</th>\n",
       "      <th>IPG3113N</th>\n",
       "    </tr>\n",
       "    <tr>\n",
       "      <th>date</th>\n",
       "      <th></th>\n",
       "      <th></th>\n",
       "    </tr>\n",
       "  </thead>\n",
       "  <tbody>\n",
       "    <tr>\n",
       "      <th>1972-01-01</th>\n",
       "      <td>1972-01-01</td>\n",
       "      <td>85.598809</td>\n",
       "    </tr>\n",
       "    <tr>\n",
       "      <th>1972-02-01</th>\n",
       "      <td>1972-02-01</td>\n",
       "      <td>71.741404</td>\n",
       "    </tr>\n",
       "    <tr>\n",
       "      <th>1972-03-01</th>\n",
       "      <td>1972-03-01</td>\n",
       "      <td>65.948809</td>\n",
       "    </tr>\n",
       "    <tr>\n",
       "      <th>1972-04-01</th>\n",
       "      <td>1972-04-01</td>\n",
       "      <td>64.490724</td>\n",
       "    </tr>\n",
       "    <tr>\n",
       "      <th>1972-05-01</th>\n",
       "      <td>1972-05-01</td>\n",
       "      <td>64.933842</td>\n",
       "    </tr>\n",
       "  </tbody>\n",
       "</table>\n",
       "</div>"
      ],
      "text/plain": [
       "                  date   IPG3113N\n",
       "date                             \n",
       "1972-01-01  1972-01-01  85.598809\n",
       "1972-02-01  1972-02-01  71.741404\n",
       "1972-03-01  1972-03-01  65.948809\n",
       "1972-04-01  1972-04-01  64.490724\n",
       "1972-05-01  1972-05-01  64.933842"
      ]
     },
     "execution_count": 8,
     "metadata": {},
     "output_type": "execute_result"
    }
   ],
   "source": [
    "df.head()"
   ]
  },
  {
   "cell_type": "code",
   "execution_count": 9,
   "metadata": {},
   "outputs": [
    {
     "data": {
      "text/html": [
       "<div>\n",
       "<style scoped>\n",
       "    .dataframe tbody tr th:only-of-type {\n",
       "        vertical-align: middle;\n",
       "    }\n",
       "\n",
       "    .dataframe tbody tr th {\n",
       "        vertical-align: top;\n",
       "    }\n",
       "\n",
       "    .dataframe thead th {\n",
       "        text-align: right;\n",
       "    }\n",
       "</style>\n",
       "<table border=\"1\" class=\"dataframe\">\n",
       "  <thead>\n",
       "    <tr style=\"text-align: right;\">\n",
       "      <th></th>\n",
       "      <th>IPG3113N</th>\n",
       "    </tr>\n",
       "    <tr>\n",
       "      <th>date</th>\n",
       "      <th></th>\n",
       "    </tr>\n",
       "  </thead>\n",
       "  <tbody>\n",
       "    <tr>\n",
       "      <th>1972-01-01</th>\n",
       "      <td>85.598809</td>\n",
       "    </tr>\n",
       "    <tr>\n",
       "      <th>1972-02-01</th>\n",
       "      <td>71.741404</td>\n",
       "    </tr>\n",
       "    <tr>\n",
       "      <th>1972-03-01</th>\n",
       "      <td>65.948809</td>\n",
       "    </tr>\n",
       "    <tr>\n",
       "      <th>1972-04-01</th>\n",
       "      <td>64.490724</td>\n",
       "    </tr>\n",
       "    <tr>\n",
       "      <th>1972-05-01</th>\n",
       "      <td>64.933842</td>\n",
       "    </tr>\n",
       "  </tbody>\n",
       "</table>\n",
       "</div>"
      ],
      "text/plain": [
       "             IPG3113N\n",
       "date                 \n",
       "1972-01-01  85.598809\n",
       "1972-02-01  71.741404\n",
       "1972-03-01  65.948809\n",
       "1972-04-01  64.490724\n",
       "1972-05-01  64.933842"
      ]
     },
     "execution_count": 9,
     "metadata": {},
     "output_type": "execute_result"
    }
   ],
   "source": [
    "# por último eliminamos la columna de DATE que ya no nos hace falta. \n",
    "df.drop(columns=['date'], inplace=True)\n",
    "df.head()"
   ]
  },
  {
   "cell_type": "markdown",
   "metadata": {},
   "source": [
    "## Chequeemos los nulos. \n",
    "\n",
    "🚨🚨🚨 No podremos tenere nulos en el *dataframe*"
   ]
  },
  {
   "cell_type": "code",
   "execution_count": 10,
   "metadata": {},
   "outputs": [
    {
     "data": {
      "text/plain": [
       "IPG3113N    0\n",
       "dtype: int64"
      ]
     },
     "execution_count": 10,
     "metadata": {},
     "output_type": "execute_result"
    }
   ],
   "source": [
    "df.isnull().sum()"
   ]
  },
  {
   "cell_type": "code",
   "execution_count": 11,
   "metadata": {},
   "outputs": [],
   "source": [
    "df.columns = [\"valores\"]"
   ]
  },
  {
   "cell_type": "markdown",
   "metadata": {},
   "source": [
    "# Componentes de una Serie Temporal\n",
    "\n",
    "El análisis clásico de series temporales considera que una serie temporal queda formada por cuatro\n",
    "componentes:\n",
    "\n",
    "- `Tendendia o Estacionaridad`: movimiento regular de la serie, a largo plazo.\n",
    "\n",
    "\n",
    "- `Variaciones estacionales`: oscilaciones a corto plazo del período regular, de duración menor o igual a un año.\n",
    "\n",
    "\n",
    "- `Variaciones cíclicas`: movimientos a medio plazo (superior a un año) en torno a la tendencia cuyo período y amplitud pueden presentar cierta regularidad.\n",
    "\n",
    "\n",
    "- `Ruido Blanco o residuos`: consisten en movimientos irregulares y pasajeros provocados por factores esporádicos e imprevisibles. Son efectos impredecibles que no son asignables a ninguna de las componentes anteriores, por lo que constituyen el residuo que queda cuando se estiman las otras componentes."
   ]
  },
  {
   "cell_type": "code",
   "execution_count": 14,
   "metadata": {},
   "outputs": [
    {
     "data": {
      "image/png": "[encoded data removed]",
      "text/plain": [
       "<Figure size 720x360 with 4 Axes>"
      ]
     },
     "metadata": {
      "needs_background": "light"
     },
     "output_type": "display_data"
    }
   ],
   "source": [
    "res = seasonal_decompose(df.valores, model=\"additive\")\n",
    "res.plot();"
   ]
  },
  {
   "cell_type": "markdown",
   "metadata": {},
   "source": [
    "## Estacionalidad\n",
    "\n",
    "\n",
    "Un patrón estacional se produce cuando una serie temporal se ve afectada por factores estacionales, como la época del año o el día de la semana. La estacionalidad tiene siempre una frecuencia fija y conocida.\n",
    "\n"
   ]
  },
  {
   "cell_type": "code",
   "execution_count": null,
   "metadata": {},
   "outputs": [],
   "source": [
    "df2 = df.copy()\n",
    "df2.head()"
   ]
  },
  {
   "cell_type": "code",
   "execution_count": null,
   "metadata": {},
   "outputs": [],
   "source": [
    "df2[\"year\"] = df2.index.year\n",
    "df2[\"month\"] = df2.index.month\n",
    "df2.head()"
   ]
  },
  {
   "cell_type": "code",
   "execution_count": null,
   "metadata": {},
   "outputs": [],
   "source": [
    "fig, ax = plt.subplots(figsize=(15, 6))\n",
    "\n",
    "sns.lineplot(df2['month'], df2['valores'], hue=df2['year'])\n",
    "ax.set_title('Estacionalidad venta caramelos', fontsize = 20, loc='center')\n",
    "ax.set_xlabel('Mes')\n",
    "ax.set_ylabel('Caramelos vendidos');"
   ]
  },
  {
   "cell_type": "markdown",
   "metadata": {},
   "source": [
    "## Estacionaridad\n",
    "\n",
    "Existe una tendencia cuando hay un aumento o una disminución a largo plazo en los datos. No tiene por qué ser lineal. A veces se dice que una tendencia \"cambia de dirección\" cuando puede pasar de una tendencia creciente a una tendencia decreciente. Se puede decir que una serie es estacionaria cuando **su media y su varianza no están en función del tiempo**, es decir, son constantes en el tiempo.\n",
    "\n",
    "La estacionariedad es importante porque la mayoría de los métodos estadísticos para realizar análisis y predicciones se basan en la suposición de que las propiedades estadísticas de la serie (media, varianza, correlación, etc.) son constantes en el tiempo."
   ]
  },
  {
   "cell_type": "code",
   "execution_count": null,
   "metadata": {},
   "outputs": [],
   "source": [
    "df.plot(figsize=(15,6))\n",
    "plt.title(\"Evolución de la temperatura\")\n",
    "plt.axhline(df.valores.mean(), c=\"g\", label=\"mean\")\n",
    "plt.legend();\n"
   ]
  },
  {
   "cell_type": "code",
   "execution_count": 16,
   "metadata": {},
   "outputs": [
    {
     "data": {
      "image/png": "[encoded data removed]",
      "text/plain": [
       "<Figure size 1080x432 with 1 Axes>"
      ]
     },
     "metadata": {
      "needs_background": "light"
     },
     "output_type": "display_data"
    }
   ],
   "source": [
    "plt.figure(figsize=(15,6))\n",
    "plt.title(\"Evolución de la temperatura\")\n",
    "\n",
    "plt.plot(df[\"valores\"], label=\"AvgTemp\", linewidth=8)\n",
    "plt.plot(df.rolling(window = 12).mean(), label=\"rolling window\", c= \"r\", linewidth = 0.4)\n",
    "\n",
    "plt.legend();"
   ]
  },
  {
   "cell_type": "markdown",
   "metadata": {},
   "source": [
    "Al plotear la media junto con los puntos de datos originales, podemos ver que son  algo constantes en el tiempo, no vemos ninguna tendencia de incremento o disminución. Sin embargo, parecen seguir un comportamiento. cíclico. Pero esto nos puede convencer poco, también podemos hacer el test de ADFuller"
   ]
  },
  {
   "cell_type": "code",
   "execution_count": 17,
   "metadata": {},
   "outputs": [
    {
     "data": {
      "text/plain": [
       "(-1.7760153075016094,\n",
       " 0.39243275007140066,\n",
       " 14,\n",
       " 549,\n",
       " {'1%': -3.4423174665535385,\n",
       "  '5%': -2.866818952732754,\n",
       "  '10%': -2.569581505602171},\n",
       " 3094.8288813170466)"
      ]
     },
     "execution_count": 17,
     "metadata": {},
     "output_type": "execute_result"
    }
   ],
   "source": [
    "res_ad = adfuller(df[\"valores\"])\n",
    "res_ad"
   ]
  },
  {
   "cell_type": "code",
   "execution_count": 18,
   "metadata": {},
   "outputs": [
    {
     "name": "stdout",
     "output_type": "stream",
     "text": [
      "ADF Statistic: -1.7760153075016094\n",
      "p-value: 0.39243275007140066\n",
      "Critical Values:\n",
      "\t 1% -3.44\n",
      "\t 5% -2.87\n",
      "\t 10% -2.57\n"
     ]
    }
   ],
   "source": [
    "# pongamosle etiquetas a los resultados\n",
    "print('ADF Statistic:', res_ad[0])\n",
    "print('p-value:', res_ad[1])\n",
    "print('Critical Values:')\n",
    "for key, value in res_ad[4].items():\n",
    "\tprint( \"\\t\",  key, round(value, 2))"
   ]
  },
  {
   "cell_type": "markdown",
   "metadata": {},
   "source": [
    "¿Cuáles son las conclusiones de esta prueba?\n",
    "\n",
    "A partir de los resultados del test de Dickey Fuller podemos observar dos cosas:\n",
    "\n",
    "- Si adf > valores_críticos  ==> DATOS NO ESTACIONARIOS\n",
    "\n",
    "- pvalue> 0.05  ==> DATOS NO ESTACIONARIOS"
   ]
  },
  {
   "cell_type": "markdown",
   "metadata": {},
   "source": [
    "En nuestro caso, nuestros datos no son estacionarios! "
   ]
  },
  {
   "cell_type": "code",
   "execution_count": 19,
   "metadata": {},
   "outputs": [
    {
     "data": {
      "text/html": [
       "<div>\n",
       "<style scoped>\n",
       "    .dataframe tbody tr th:only-of-type {\n",
       "        vertical-align: middle;\n",
       "    }\n",
       "\n",
       "    .dataframe tbody tr th {\n",
       "        vertical-align: top;\n",
       "    }\n",
       "\n",
       "    .dataframe thead th {\n",
       "        text-align: right;\n",
       "    }\n",
       "</style>\n",
       "<table border=\"1\" class=\"dataframe\">\n",
       "  <thead>\n",
       "    <tr style=\"text-align: right;\">\n",
       "      <th></th>\n",
       "      <th>valores</th>\n",
       "      <th>diff</th>\n",
       "    </tr>\n",
       "    <tr>\n",
       "      <th>date</th>\n",
       "      <th></th>\n",
       "      <th></th>\n",
       "    </tr>\n",
       "  </thead>\n",
       "  <tbody>\n",
       "    <tr>\n",
       "      <th>1972-01-01</th>\n",
       "      <td>85.598809</td>\n",
       "      <td>NaN</td>\n",
       "    </tr>\n",
       "    <tr>\n",
       "      <th>1972-02-01</th>\n",
       "      <td>71.741404</td>\n",
       "      <td>-13.857405</td>\n",
       "    </tr>\n",
       "    <tr>\n",
       "      <th>1972-03-01</th>\n",
       "      <td>65.948809</td>\n",
       "      <td>-5.792594</td>\n",
       "    </tr>\n",
       "    <tr>\n",
       "      <th>1972-04-01</th>\n",
       "      <td>64.490724</td>\n",
       "      <td>-1.458086</td>\n",
       "    </tr>\n",
       "    <tr>\n",
       "      <th>1972-05-01</th>\n",
       "      <td>64.933842</td>\n",
       "      <td>0.443118</td>\n",
       "    </tr>\n",
       "  </tbody>\n",
       "</table>\n",
       "</div>"
      ],
      "text/plain": [
       "              valores       diff\n",
       "date                            \n",
       "1972-01-01  85.598809        NaN\n",
       "1972-02-01  71.741404 -13.857405\n",
       "1972-03-01  65.948809  -5.792594\n",
       "1972-04-01  64.490724  -1.458086\n",
       "1972-05-01  64.933842   0.443118"
      ]
     },
     "execution_count": 19,
     "metadata": {},
     "output_type": "execute_result"
    }
   ],
   "source": [
    "df[\"diff\"] = df.diff()\n",
    "df.head()"
   ]
  },
  {
   "cell_type": "code",
   "execution_count": 20,
   "metadata": {},
   "outputs": [],
   "source": [
    "df.drop([\"valores\"], inplace = True, axis = 1)\n",
    "df.dropna(inplace = True)"
   ]
  },
  {
   "cell_type": "code",
   "execution_count": 21,
   "metadata": {},
   "outputs": [
    {
     "data": {
      "text/html": [
       "<div>\n",
       "<style scoped>\n",
       "    .dataframe tbody tr th:only-of-type {\n",
       "        vertical-align: middle;\n",
       "    }\n",
       "\n",
       "    .dataframe tbody tr th {\n",
       "        vertical-align: top;\n",
       "    }\n",
       "\n",
       "    .dataframe thead th {\n",
       "        text-align: right;\n",
       "    }\n",
       "</style>\n",
       "<table border=\"1\" class=\"dataframe\">\n",
       "  <thead>\n",
       "    <tr style=\"text-align: right;\">\n",
       "      <th></th>\n",
       "      <th>diff</th>\n",
       "    </tr>\n",
       "    <tr>\n",
       "      <th>date</th>\n",
       "      <th></th>\n",
       "    </tr>\n",
       "  </thead>\n",
       "  <tbody>\n",
       "    <tr>\n",
       "      <th>1972-02-01</th>\n",
       "      <td>-13.857405</td>\n",
       "    </tr>\n",
       "    <tr>\n",
       "      <th>1972-03-01</th>\n",
       "      <td>-5.792594</td>\n",
       "    </tr>\n",
       "    <tr>\n",
       "      <th>1972-04-01</th>\n",
       "      <td>-1.458086</td>\n",
       "    </tr>\n",
       "    <tr>\n",
       "      <th>1972-05-01</th>\n",
       "      <td>0.443118</td>\n",
       "    </tr>\n",
       "    <tr>\n",
       "      <th>1972-06-01</th>\n",
       "      <td>2.630546</td>\n",
       "    </tr>\n",
       "  </tbody>\n",
       "</table>\n",
       "</div>"
      ],
      "text/plain": [
       "                 diff\n",
       "date                 \n",
       "1972-02-01 -13.857405\n",
       "1972-03-01  -5.792594\n",
       "1972-04-01  -1.458086\n",
       "1972-05-01   0.443118\n",
       "1972-06-01   2.630546"
      ]
     },
     "execution_count": 21,
     "metadata": {},
     "output_type": "execute_result"
    }
   ],
   "source": [
    "df.head()"
   ]
  },
  {
   "cell_type": "code",
   "execution_count": 22,
   "metadata": {},
   "outputs": [
    {
     "data": {
      "text/plain": [
       "(-6.175912489755725,\n",
       " 6.631549159333205e-08,\n",
       " 13,\n",
       " 549,\n",
       " {'1%': -3.4423174665535385,\n",
       "  '5%': -2.866818952732754,\n",
       "  '10%': -2.569581505602171},\n",
       " 3091.3123583091397)"
      ]
     },
     "execution_count": 22,
     "metadata": {},
     "output_type": "execute_result"
    }
   ],
   "source": [
    "res_ad2 = adfuller(df[\"diff\"])\n",
    "res_ad2"
   ]
  },
  {
   "cell_type": "code",
   "execution_count": 23,
   "metadata": {},
   "outputs": [
    {
     "name": "stdout",
     "output_type": "stream",
     "text": [
      "ADF Statistic: -1.7760153075016094\n",
      "p-value: 0.39243275007140066\n",
      "Critical Values:\n",
      "\t 1% -3.44\n",
      "\t 5% -2.87\n",
      "\t 10% -2.57\n"
     ]
    }
   ],
   "source": [
    "print('ADF Statistic:', res_ad[0])\n",
    "print('p-value:', res_ad[1])\n",
    "print('Critical Values:')\n",
    "for key, value in res_ad2[4].items():\n",
    "\tprint( \"\\t\",  key, round(value, 2))"
   ]
  },
  {
   "cell_type": "markdown",
   "metadata": {},
   "source": [
    "## Comparativa estacionalidad vs estacionaridad"
   ]
  },
  {
   "cell_type": "code",
   "execution_count": null,
   "metadata": {},
   "outputs": [],
   "source": [
    "# nos creamos una lista con las columnas de tiempo\n",
    "tiempo = df2.columns.drop(\"valores\")\n",
    "\n",
    "componentes = [\"Estacionaridad\", \"Estacionalidad\"]\n",
    "\n",
    "#iniciamos los subplots\n",
    "fig, ax = plt.subplots(nrows=1, ncols=2, figsize=(15, 6))\n",
    "\n",
    "# hacemos nuestro for para no repetir lineas de código\n",
    "for i, col in enumerate(tiempo):\n",
    "    sns.boxplot(df2[col], df2[\"valores\"], ax=ax[i])\n",
    "    ax[i].set_title(componentes[i], fontsize = 20, loc='center')\n",
    "    ax[i].set_xlabel('Year', fontsize = 16, fontdict=dict(weight='bold'))\n",
    "    ax[i].set_ylabel('caramelos', fontsize = 16)\n",
    "plt.show()"
   ]
  },
  {
   "cell_type": "markdown",
   "metadata": {},
   "source": [
    "# Autocorrelación\n",
    "\n",
    "La autocorrelación es un tipo de dependencia temporal. En concreto, la autocorrelación se produce cuando una serie temporal está relacionada linealmente con una versión retardada de la misma. \n",
    "\n",
    "\n",
    "Quizás el aspecto más convincente del análisis de autocorrelación es cómo puede ayudarnos a descubrir patrones ocultos en nuestros datos y a seleccionar los métodos de previsión correctos. En concreto, podemos utilizarlo para ayudar a identificar la estacionalidad y la tendencia en nuestros datos de series temporales. Además, el análisis conjunto de la función de autocorrelación (ACF) y la función de autocorrelación parcial (PACF) es necesario para seleccionar el modelo ARIMA adecuado para la predicción de series temporales.\n",
    "\n",
    "- `Auto-correlación`: la correlación entre dos momentos/instantes de tiempo.\n",
    "\n",
    "\n",
    "- `Auto-correlación parcial`: es una medida de la correlación entre observaciones de una serie de tiempo que se encuentran separadas por k unidades de tiempo (yt y yt-k), después de ajustarse para la presencia de los demás términos de desfase más corto (yt-1, yt-2, ..., yt–k–1).\n",
    "\n",
    "![auto](https://github.com/Ironhack-Part-Time-Enero2022/apuntes-clases/blob/master/semana-20/imagenes/autocorrelation-anatomy-python.jpg?raw=true)"
   ]
  },
  {
   "cell_type": "code",
   "execution_count": 24,
   "metadata": {},
   "outputs": [
    {
     "data": {
      "image/png": "[encoded data removed]",
      "text/plain": [
       "<Figure size 1080x720 with 2 Axes>"
      ]
     },
     "metadata": {
      "needs_background": "light"
     },
     "output_type": "display_data"
    }
   ],
   "source": [
    "fig, axes = plt.subplots(2, 1, figsize=(15,10))\n",
    "plot_acf(df, lags=25, ax= axes[0])\n",
    "plot_pacf(df, lags=20, ax= axes[1]);\n",
    "\n"
   ]
  },
  {
   "cell_type": "markdown",
   "metadata": {},
   "source": [
    "# Modelo ARMA\n",
    "\n",
    "Para hacer predicciones necesitaremos usar los modelos ARMA o ARIMA. ¿Qué signfican estos conceptos? "
   ]
  },
  {
   "cell_type": "markdown",
   "metadata": {},
   "source": [
    "Lo primero que tenemos que hacer es separar nuestros datos en *train* y *test*, para seguir con buenas prácticas y ver si nuestras predicciones están *overfiteadas* "
   ]
  },
  {
   "cell_type": "code",
   "execution_count": 25,
   "metadata": {},
   "outputs": [],
   "source": [
    "y_test = df[\"diff\"][-30:]\n",
    "y_train = df[\"diff\"][:-30]"
   ]
  },
  {
   "cell_type": "code",
   "execution_count": 26,
   "metadata": {},
   "outputs": [
    {
     "data": {
      "text/plain": [
       "[(0, 0, 0),\n",
       " (0, 0, 1),\n",
       " (0, 0, 2),\n",
       " (0, 0, 3),\n",
       " (0, 0, 4),\n",
       " (0, 0, 5),\n",
       " (0, 0, 6),\n",
       " (0, 0, 7),\n",
       " (0, 0, 8),\n",
       " (0, 0, 9)]"
      ]
     },
     "execution_count": 26,
     "metadata": {},
     "output_type": "execute_result"
    }
   ],
   "source": [
    "ps = range(24)\n",
    "qs = range(15)\n",
    "\n",
    "parameters = list(product(ps, ds, qs))\n",
    "parameters[:10]"
   ]
  },
  {
   "cell_type": "code",
   "execution_count": null,
   "metadata": {},
   "outputs": [
    {
     "name": "stderr",
     "output_type": "stream",
     "text": [
      " 98%|████████████████████████████████████████ | 703/720 [1:43:48<07:32, 26.63s/it]"
     ]
    }
   ],
   "source": [
    "%%time\n",
    "rmse = []\n",
    "order = []\n",
    "for p,q, d in tqdm(parameters):\n",
    "    try:\n",
    "        modelo=ARIMA(y_train, order=(p, 0, q)).fit()\n",
    "        pred = modelo.predict(start=len(y_train), end=len(df) -1)\n",
    "        error = np.sqrt(np.mean(mean_squared_error(y_test, pred)))\n",
    "        rmse.append(error)\n",
    "        order.append((p,d,q))\n",
    "    except: \n",
    "        continue"
   ]
  },
  {
   "cell_type": "code",
   "execution_count": null,
   "metadata": {},
   "outputs": [],
   "source": [
    "results = pd.DataFrame({\"RMSE\": rmse, \"order\": order})\n",
    "results.sort_values(by=\"RMSE\", inplace=True)"
   ]
  },
  {
   "cell_type": "code",
   "execution_count": null,
   "metadata": {},
   "outputs": [],
   "source": [
    "results.head()"
   ]
  },
  {
   "cell_type": "code",
   "execution_count": null,
   "metadata": {},
   "outputs": [],
   "source": [
    "modelo=ARIMA(y_train, order=(4, 1, 5)).fit()\n",
    "pred = pd.DataFrame(modelo.predict(start=len(y_train), end=len(df) -1))"
   ]
  },
  {
   "cell_type": "code",
   "execution_count": null,
   "metadata": {},
   "outputs": [],
   "source": [
    "fecha = pd.date_range(\"2016-07-01  \", periods=30, freq=\"MS\")"
   ]
  },
  {
   "cell_type": "code",
   "execution_count": null,
   "metadata": {},
   "outputs": [],
   "source": [
    "pred.index = fecha"
   ]
  },
  {
   "cell_type": "code",
   "execution_count": null,
   "metadata": {},
   "outputs": [],
   "source": [
    "pred.head()"
   ]
  },
  {
   "cell_type": "code",
   "execution_count": null,
   "metadata": {},
   "outputs": [],
   "source": [
    "plt.plot(y_train)\n",
    "plt.plot(pred)\n",
    "plt.legend([\"real\", \"predicted\"]);"
   ]
  },
  {
   "cell_type": "code",
   "execution_count": null,
   "metadata": {},
   "outputs": [],
   "source": [
    "pred[\"real\"] = y_test"
   ]
  },
  {
   "cell_type": "code",
   "execution_count": null,
   "metadata": {},
   "outputs": [],
   "source": [
    "pred.head()"
   ]
  },
  {
   "cell_type": "code",
   "execution_count": null,
   "metadata": {},
   "outputs": [],
   "source": [
    "plt.plot(pred['predicted_mean'])\n",
    "plt.plot(pred[\"real\"])\n",
    "plt.legend([\"real\", \"predicted\"]);"
   ]
  },
  {
   "cell_type": "code",
   "execution_count": null,
   "metadata": {},
   "outputs": [],
   "source": [
    "y_test"
   ]
  },
  {
   "cell_type": "code",
   "execution_count": null,
   "metadata": {},
   "outputs": [],
   "source": [
    "fecha2 = pd.date_range(\"2019-01-01  \", periods=12, freq=\"MS\")\n",
    "fecha2"
   ]
  },
  {
   "cell_type": "code",
   "execution_count": null,
   "metadata": {},
   "outputs": [],
   "source": [
    "pred2 = pd.DataFrame(modelo.predict(start=len(df) , end=len(df)  + 12))"
   ]
  },
  {
   "cell_type": "code",
   "execution_count": null,
   "metadata": {},
   "outputs": [],
   "source": [
    "pred2"
   ]
  },
  {
   "cell_type": "code",
   "execution_count": null,
   "metadata": {},
   "outputs": [],
   "source": [
    "plt.plot(df)\n",
    "plt.plot(pred2)\n",
    "plt.legend([\"real\", \"predicted\"]);"
   ]
  },
  {
   "cell_type": "code",
   "execution_count": null,
   "metadata": {},
   "outputs": [],
   "source": [
    "df.head()"
   ]
  },
  {
   "cell_type": "code",
   "execution_count": null,
   "metadata": {},
   "outputs": [],
   "source": [
    "df2 = df[df.index.year > 2017]\n",
    "df2.head()"
   ]
  },
  {
   "cell_type": "code",
   "execution_count": null,
   "metadata": {},
   "outputs": [],
   "source": [
    "plt.plot(df2)\n",
    "plt.plot(pred2)\n",
    "plt.legend([\"real\", \"predicted\"]);"
   ]
  },
  {
   "cell_type": "code",
   "execution_count": null,
   "metadata": {},
   "outputs": [],
   "source": []
  }
 ],
 "metadata": {
  "interpreter": {
   "hash": "7c5ad4df39bf06a9eb4fb459b3b63eb25b4f3b680f8fa78ceb9dcffa768664c7"
  },
  "kernelspec": {
   "display_name": "timeseries",
   "language": "python",
   "name": "timeseries"
  },
  "language_info": {
   "codemirror_mode": {
    "name": "ipython",
    "version": 3
   },
   "file_extension": ".py",
   "mimetype": "text/x-python",
   "name": "python",
   "nbconvert_exporter": "python",
   "pygments_lexer": "ipython3",
   "version": "3.8.12"
  },
  "toc": {
   "base_numbering": 1,
   "nav_menu": {},
   "number_sections": true,
   "sideBar": true,
   "skip_h1_title": false,
   "title_cell": "Table of Contents",
   "title_sidebar": "Contents",
   "toc_cell": true,
   "toc_position": {},
   "toc_section_display": true,
   "toc_window_display": false
  }
 },
 "nbformat": 4,
 "nbformat_minor": 2
}
